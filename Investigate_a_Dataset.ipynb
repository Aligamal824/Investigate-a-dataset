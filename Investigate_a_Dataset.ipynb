{
 "cells": [
  {
   "cell_type": "markdown",
   "metadata": {},
   "source": [
    "# Project: Medical Appointment No Shows-may-2016 dataset\n",
    "\n",
    "## Table of Contents\n",
    "<ul>\n",
    "<li><a href=\"#intro\">Introduction</a></li>\n",
    "<li><a href=\"#wrangling\">Data Wrangling</a></li>\n",
    "<li><a href=\"#eda\">Exploratory Data Analysis</a></li>\n",
    "<li><a href=\"#conclusions\">Conclusions</a></li>\n",
    "</ul>"
   ]
  },
  {
   "cell_type": "markdown",
   "metadata": {},
   "source": [
    "<a id='intro'></a>\n",
    "## Introduction\n",
    "\n",
    "> This dataset collects information from 100k medical appointments in Brazil and is focused on the question\n",
    "of whether or not patients show up for their appointment. \n",
    ">  A number of characteristics about the patient are included in each row. This dataset cntains from fourteen columns, where  'PatientId' is the id of patient, 'AppointmentID' is the date id, 'ScheduledDay' contain the target day and time (date), 'AppointmentDay' is the target day only, 'Neighbourhood' is the location of the hospital, 'Scholarship' is pationt free or paid, 'Hipertension' is abnormally high blood pressure, 'Diabetes' is the sugar disease of patient, 'Alcoholism' tell us if the patient is an alcoholic or not, 'Handcap' is tell us patient have the body permenant isuue or not, finally 'No-show' is a person who has made a appointment but neither keeps nor cancels it where if the patient goes to his appointment mean NO-show is 'No' otherwise is 'Yes'. \n",
    "### My questions are:\n",
    "<ul>\n",
    "<li> Exploring with Visuals </li> \n",
    "<li> the relation between hipertension and patient attendance </li>\n",
    "<ul>\n"
   ]
  },
  {
   "cell_type": "code",
   "execution_count": 97,
   "metadata": {},
   "outputs": [],
   "source": [
    "import pandas  as pd\n",
    "import numpy   as np\n",
    "import seaborn as sb\n",
    "import matplotlib.pyplot as plt\n",
    "%matplotlib inline"
   ]
  },
  {
   "cell_type": "markdown",
   "metadata": {},
   "source": [
    "<a id='wrangling'></a>\n",
    "## Data Wrangling\n",
    "\n",
    "I will check the dataset, then I will clean the dataset to be ready for analysis.\n",
    "\n",
    "### General Properties"
   ]
  },
  {
   "cell_type": "code",
   "execution_count": 98,
   "metadata": {},
   "outputs": [],
   "source": [
    "# Load data\n",
    "med_16= pd.read_csv('noshowappointments-kagglev2-may-2016.csv')"
   ]
  },
  {
   "cell_type": "markdown",
   "metadata": {},
   "source": [
    "###  Dataset summary"
   ]
  },
  {
   "cell_type": "markdown",
   "metadata": {},
   "source": [
    "I will display the first rows to observe database properties."
   ]
  },
  {
   "cell_type": "code",
   "execution_count": 99,
   "metadata": {},
   "outputs": [
    {
     "data": {
      "text/html": [
       "<div>\n",
       "<style scoped>\n",
       "    .dataframe tbody tr th:only-of-type {\n",
       "        vertical-align: middle;\n",
       "    }\n",
       "\n",
       "    .dataframe tbody tr th {\n",
       "        vertical-align: top;\n",
       "    }\n",
       "\n",
       "    .dataframe thead th {\n",
       "        text-align: right;\n",
       "    }\n",
       "</style>\n",
       "<table border=\"1\" class=\"dataframe\">\n",
       "  <thead>\n",
       "    <tr style=\"text-align: right;\">\n",
       "      <th></th>\n",
       "      <th>PatientId</th>\n",
       "      <th>AppointmentID</th>\n",
       "      <th>Gender</th>\n",
       "      <th>ScheduledDay</th>\n",
       "      <th>AppointmentDay</th>\n",
       "      <th>Age</th>\n",
       "      <th>Neighbourhood</th>\n",
       "      <th>Scholarship</th>\n",
       "      <th>Hipertension</th>\n",
       "      <th>Diabetes</th>\n",
       "      <th>Alcoholism</th>\n",
       "      <th>Handcap</th>\n",
       "      <th>SMS_received</th>\n",
       "      <th>No-show</th>\n",
       "    </tr>\n",
       "  </thead>\n",
       "  <tbody>\n",
       "    <tr>\n",
       "      <th>0</th>\n",
       "      <td>2.987250e+13</td>\n",
       "      <td>5642903</td>\n",
       "      <td>F</td>\n",
       "      <td>2016-04-29T18:38:08Z</td>\n",
       "      <td>2016-04-29T00:00:00Z</td>\n",
       "      <td>62</td>\n",
       "      <td>JARDIM DA PENHA</td>\n",
       "      <td>0</td>\n",
       "      <td>1</td>\n",
       "      <td>0</td>\n",
       "      <td>0</td>\n",
       "      <td>0</td>\n",
       "      <td>0</td>\n",
       "      <td>No</td>\n",
       "    </tr>\n",
       "    <tr>\n",
       "      <th>1</th>\n",
       "      <td>5.589978e+14</td>\n",
       "      <td>5642503</td>\n",
       "      <td>M</td>\n",
       "      <td>2016-04-29T16:08:27Z</td>\n",
       "      <td>2016-04-29T00:00:00Z</td>\n",
       "      <td>56</td>\n",
       "      <td>JARDIM DA PENHA</td>\n",
       "      <td>0</td>\n",
       "      <td>0</td>\n",
       "      <td>0</td>\n",
       "      <td>0</td>\n",
       "      <td>0</td>\n",
       "      <td>0</td>\n",
       "      <td>No</td>\n",
       "    </tr>\n",
       "    <tr>\n",
       "      <th>2</th>\n",
       "      <td>4.262962e+12</td>\n",
       "      <td>5642549</td>\n",
       "      <td>F</td>\n",
       "      <td>2016-04-29T16:19:04Z</td>\n",
       "      <td>2016-04-29T00:00:00Z</td>\n",
       "      <td>62</td>\n",
       "      <td>MATA DA PRAIA</td>\n",
       "      <td>0</td>\n",
       "      <td>0</td>\n",
       "      <td>0</td>\n",
       "      <td>0</td>\n",
       "      <td>0</td>\n",
       "      <td>0</td>\n",
       "      <td>No</td>\n",
       "    </tr>\n",
       "    <tr>\n",
       "      <th>3</th>\n",
       "      <td>8.679512e+11</td>\n",
       "      <td>5642828</td>\n",
       "      <td>F</td>\n",
       "      <td>2016-04-29T17:29:31Z</td>\n",
       "      <td>2016-04-29T00:00:00Z</td>\n",
       "      <td>8</td>\n",
       "      <td>PONTAL DE CAMBURI</td>\n",
       "      <td>0</td>\n",
       "      <td>0</td>\n",
       "      <td>0</td>\n",
       "      <td>0</td>\n",
       "      <td>0</td>\n",
       "      <td>0</td>\n",
       "      <td>No</td>\n",
       "    </tr>\n",
       "    <tr>\n",
       "      <th>4</th>\n",
       "      <td>8.841186e+12</td>\n",
       "      <td>5642494</td>\n",
       "      <td>F</td>\n",
       "      <td>2016-04-29T16:07:23Z</td>\n",
       "      <td>2016-04-29T00:00:00Z</td>\n",
       "      <td>56</td>\n",
       "      <td>JARDIM DA PENHA</td>\n",
       "      <td>0</td>\n",
       "      <td>1</td>\n",
       "      <td>1</td>\n",
       "      <td>0</td>\n",
       "      <td>0</td>\n",
       "      <td>0</td>\n",
       "      <td>No</td>\n",
       "    </tr>\n",
       "  </tbody>\n",
       "</table>\n",
       "</div>"
      ],
      "text/plain": [
       "      PatientId  AppointmentID Gender          ScheduledDay  \\\n",
       "0  2.987250e+13        5642903      F  2016-04-29T18:38:08Z   \n",
       "1  5.589978e+14        5642503      M  2016-04-29T16:08:27Z   \n",
       "2  4.262962e+12        5642549      F  2016-04-29T16:19:04Z   \n",
       "3  8.679512e+11        5642828      F  2016-04-29T17:29:31Z   \n",
       "4  8.841186e+12        5642494      F  2016-04-29T16:07:23Z   \n",
       "\n",
       "         AppointmentDay  Age      Neighbourhood  Scholarship  Hipertension  \\\n",
       "0  2016-04-29T00:00:00Z   62    JARDIM DA PENHA            0             1   \n",
       "1  2016-04-29T00:00:00Z   56    JARDIM DA PENHA            0             0   \n",
       "2  2016-04-29T00:00:00Z   62      MATA DA PRAIA            0             0   \n",
       "3  2016-04-29T00:00:00Z    8  PONTAL DE CAMBURI            0             0   \n",
       "4  2016-04-29T00:00:00Z   56    JARDIM DA PENHA            0             1   \n",
       "\n",
       "   Diabetes  Alcoholism  Handcap  SMS_received No-show  \n",
       "0         0           0        0             0      No  \n",
       "1         0           0        0             0      No  \n",
       "2         0           0        0             0      No  \n",
       "3         0           0        0             0      No  \n",
       "4         1           0        0             0      No  "
      ]
     },
     "execution_count": 99,
     "metadata": {},
     "output_type": "execute_result"
    }
   ],
   "source": [
    "# Show first few rows of the dataset\n",
    "med_16.head()"
   ]
  },
  {
   "cell_type": "markdown",
   "metadata": {},
   "source": [
    "Show some properties of the dataset."
   ]
  },
  {
   "cell_type": "code",
   "execution_count": 100,
   "metadata": {},
   "outputs": [
    {
     "data": {
      "text/html": [
       "<div>\n",
       "<style scoped>\n",
       "    .dataframe tbody tr th:only-of-type {\n",
       "        vertical-align: middle;\n",
       "    }\n",
       "\n",
       "    .dataframe tbody tr th {\n",
       "        vertical-align: top;\n",
       "    }\n",
       "\n",
       "    .dataframe thead th {\n",
       "        text-align: right;\n",
       "    }\n",
       "</style>\n",
       "<table border=\"1\" class=\"dataframe\">\n",
       "  <thead>\n",
       "    <tr style=\"text-align: right;\">\n",
       "      <th></th>\n",
       "      <th>PatientId</th>\n",
       "      <th>AppointmentID</th>\n",
       "      <th>Age</th>\n",
       "      <th>Scholarship</th>\n",
       "      <th>Hipertension</th>\n",
       "      <th>Diabetes</th>\n",
       "      <th>Alcoholism</th>\n",
       "      <th>Handcap</th>\n",
       "      <th>SMS_received</th>\n",
       "    </tr>\n",
       "  </thead>\n",
       "  <tbody>\n",
       "    <tr>\n",
       "      <th>count</th>\n",
       "      <td>1.105270e+05</td>\n",
       "      <td>1.105270e+05</td>\n",
       "      <td>110527.000000</td>\n",
       "      <td>110527.000000</td>\n",
       "      <td>110527.000000</td>\n",
       "      <td>110527.000000</td>\n",
       "      <td>110527.000000</td>\n",
       "      <td>110527.000000</td>\n",
       "      <td>110527.000000</td>\n",
       "    </tr>\n",
       "    <tr>\n",
       "      <th>mean</th>\n",
       "      <td>1.474963e+14</td>\n",
       "      <td>5.675305e+06</td>\n",
       "      <td>37.088874</td>\n",
       "      <td>0.098266</td>\n",
       "      <td>0.197246</td>\n",
       "      <td>0.071865</td>\n",
       "      <td>0.030400</td>\n",
       "      <td>0.022248</td>\n",
       "      <td>0.321026</td>\n",
       "    </tr>\n",
       "    <tr>\n",
       "      <th>std</th>\n",
       "      <td>2.560949e+14</td>\n",
       "      <td>7.129575e+04</td>\n",
       "      <td>23.110205</td>\n",
       "      <td>0.297675</td>\n",
       "      <td>0.397921</td>\n",
       "      <td>0.258265</td>\n",
       "      <td>0.171686</td>\n",
       "      <td>0.161543</td>\n",
       "      <td>0.466873</td>\n",
       "    </tr>\n",
       "    <tr>\n",
       "      <th>min</th>\n",
       "      <td>3.921784e+04</td>\n",
       "      <td>5.030230e+06</td>\n",
       "      <td>-1.000000</td>\n",
       "      <td>0.000000</td>\n",
       "      <td>0.000000</td>\n",
       "      <td>0.000000</td>\n",
       "      <td>0.000000</td>\n",
       "      <td>0.000000</td>\n",
       "      <td>0.000000</td>\n",
       "    </tr>\n",
       "    <tr>\n",
       "      <th>25%</th>\n",
       "      <td>4.172614e+12</td>\n",
       "      <td>5.640286e+06</td>\n",
       "      <td>18.000000</td>\n",
       "      <td>0.000000</td>\n",
       "      <td>0.000000</td>\n",
       "      <td>0.000000</td>\n",
       "      <td>0.000000</td>\n",
       "      <td>0.000000</td>\n",
       "      <td>0.000000</td>\n",
       "    </tr>\n",
       "    <tr>\n",
       "      <th>50%</th>\n",
       "      <td>3.173184e+13</td>\n",
       "      <td>5.680573e+06</td>\n",
       "      <td>37.000000</td>\n",
       "      <td>0.000000</td>\n",
       "      <td>0.000000</td>\n",
       "      <td>0.000000</td>\n",
       "      <td>0.000000</td>\n",
       "      <td>0.000000</td>\n",
       "      <td>0.000000</td>\n",
       "    </tr>\n",
       "    <tr>\n",
       "      <th>75%</th>\n",
       "      <td>9.439172e+13</td>\n",
       "      <td>5.725524e+06</td>\n",
       "      <td>55.000000</td>\n",
       "      <td>0.000000</td>\n",
       "      <td>0.000000</td>\n",
       "      <td>0.000000</td>\n",
       "      <td>0.000000</td>\n",
       "      <td>0.000000</td>\n",
       "      <td>1.000000</td>\n",
       "    </tr>\n",
       "    <tr>\n",
       "      <th>max</th>\n",
       "      <td>9.999816e+14</td>\n",
       "      <td>5.790484e+06</td>\n",
       "      <td>115.000000</td>\n",
       "      <td>1.000000</td>\n",
       "      <td>1.000000</td>\n",
       "      <td>1.000000</td>\n",
       "      <td>1.000000</td>\n",
       "      <td>4.000000</td>\n",
       "      <td>1.000000</td>\n",
       "    </tr>\n",
       "  </tbody>\n",
       "</table>\n",
       "</div>"
      ],
      "text/plain": [
       "          PatientId  AppointmentID            Age    Scholarship  \\\n",
       "count  1.105270e+05   1.105270e+05  110527.000000  110527.000000   \n",
       "mean   1.474963e+14   5.675305e+06      37.088874       0.098266   \n",
       "std    2.560949e+14   7.129575e+04      23.110205       0.297675   \n",
       "min    3.921784e+04   5.030230e+06      -1.000000       0.000000   \n",
       "25%    4.172614e+12   5.640286e+06      18.000000       0.000000   \n",
       "50%    3.173184e+13   5.680573e+06      37.000000       0.000000   \n",
       "75%    9.439172e+13   5.725524e+06      55.000000       0.000000   \n",
       "max    9.999816e+14   5.790484e+06     115.000000       1.000000   \n",
       "\n",
       "        Hipertension       Diabetes     Alcoholism        Handcap  \\\n",
       "count  110527.000000  110527.000000  110527.000000  110527.000000   \n",
       "mean        0.197246       0.071865       0.030400       0.022248   \n",
       "std         0.397921       0.258265       0.171686       0.161543   \n",
       "min         0.000000       0.000000       0.000000       0.000000   \n",
       "25%         0.000000       0.000000       0.000000       0.000000   \n",
       "50%         0.000000       0.000000       0.000000       0.000000   \n",
       "75%         0.000000       0.000000       0.000000       0.000000   \n",
       "max         1.000000       1.000000       1.000000       4.000000   \n",
       "\n",
       "        SMS_received  \n",
       "count  110527.000000  \n",
       "mean        0.321026  \n",
       "std         0.466873  \n",
       "min         0.000000  \n",
       "25%         0.000000  \n",
       "50%         0.000000  \n",
       "75%         1.000000  \n",
       "max         1.000000  "
      ]
     },
     "execution_count": 100,
     "metadata": {},
     "output_type": "execute_result"
    }
   ],
   "source": [
    "# Describe the dataset\n",
    "med_16.describe()"
   ]
  },
  {
   "cell_type": "code",
   "execution_count": 101,
   "metadata": {},
   "outputs": [
    {
     "data": {
      "text/plain": [
       "(110527, 14)"
      ]
     },
     "execution_count": 101,
     "metadata": {},
     "output_type": "execute_result"
    }
   ],
   "source": [
    "# Number of rows and columns\n",
    "med_16.shape"
   ]
  },
  {
   "cell_type": "markdown",
   "metadata": {},
   "source": [
    "### Checking the missing data and duplicate rows in the data set"
   ]
  },
  {
   "cell_type": "markdown",
   "metadata": {},
   "source": [
    "Check if there are any missing data in the dataset."
   ]
  },
  {
   "cell_type": "code",
   "execution_count": 102,
   "metadata": {},
   "outputs": [
    {
     "name": "stdout",
     "output_type": "stream",
     "text": [
      "<class 'pandas.core.frame.DataFrame'>\n",
      "RangeIndex: 110527 entries, 0 to 110526\n",
      "Data columns (total 14 columns):\n",
      "PatientId         110527 non-null float64\n",
      "AppointmentID     110527 non-null int64\n",
      "Gender            110527 non-null object\n",
      "ScheduledDay      110527 non-null object\n",
      "AppointmentDay    110527 non-null object\n",
      "Age               110527 non-null int64\n",
      "Neighbourhood     110527 non-null object\n",
      "Scholarship       110527 non-null int64\n",
      "Hipertension      110527 non-null int64\n",
      "Diabetes          110527 non-null int64\n",
      "Alcoholism        110527 non-null int64\n",
      "Handcap           110527 non-null int64\n",
      "SMS_received      110527 non-null int64\n",
      "No-show           110527 non-null object\n",
      "dtypes: float64(1), int64(8), object(5)\n",
      "memory usage: 11.8+ MB\n"
     ]
    },
    {
     "data": {
      "text/plain": [
       "(None, PatientId         0\n",
       " AppointmentID     0\n",
       " Gender            0\n",
       " ScheduledDay      0\n",
       " AppointmentDay    0\n",
       " Age               0\n",
       " Neighbourhood     0\n",
       " Scholarship       0\n",
       " Hipertension      0\n",
       " Diabetes          0\n",
       " Alcoholism        0\n",
       " Handcap           0\n",
       " SMS_received      0\n",
       " No-show           0\n",
       " dtype: int64)"
      ]
     },
     "execution_count": 102,
     "metadata": {},
     "output_type": "execute_result"
    }
   ],
   "source": [
    "# features with missing values\n",
    "med_16.info(),med_16.isnull().sum()"
   ]
  },
  {
   "cell_type": "markdown",
   "metadata": {},
   "source": [
    "To ensure that there is no missing data."
   ]
  },
  {
   "cell_type": "code",
   "execution_count": 103,
   "metadata": {},
   "outputs": [
    {
     "data": {
      "text/plain": [
       "False"
      ]
     },
     "execution_count": 103,
     "metadata": {},
     "output_type": "execute_result"
    }
   ],
   "source": [
    "# checks if any of columns have null values\n",
    "med_16.isnull().sum().any()"
   ]
  },
  {
   "cell_type": "markdown",
   "metadata": {},
   "source": [
    "Check if there are any duplicate data in the dataset."
   ]
  },
  {
   "cell_type": "code",
   "execution_count": 104,
   "metadata": {},
   "outputs": [
    {
     "data": {
      "text/plain": [
       "0"
      ]
     },
     "execution_count": 104,
     "metadata": {},
     "output_type": "execute_result"
    }
   ],
   "source": [
    "# duplicate rows dataset\n",
    "med_16.duplicated().sum()"
   ]
  },
  {
   "cell_type": "markdown",
   "metadata": {},
   "source": [
    "Note the age column to see if it contains logical data or not."
   ]
  },
  {
   "cell_type": "code",
   "execution_count": 105,
   "metadata": {},
   "outputs": [
    {
     "data": {
      "text/plain": [
       " 0      3539\n",
       " 1      2273\n",
       " 52     1746\n",
       " 49     1652\n",
       " 53     1651\n",
       " 56     1635\n",
       " 38     1629\n",
       " 59     1624\n",
       " 2      1618\n",
       " 50     1613\n",
       " 57     1603\n",
       " 36     1580\n",
       " 51     1567\n",
       " 19     1545\n",
       " 39     1536\n",
       " 37     1533\n",
       " 54     1530\n",
       " 34     1526\n",
       " 33     1524\n",
       " 30     1521\n",
       " 6      1521\n",
       " 3      1513\n",
       " 17     1509\n",
       " 32     1505\n",
       " 5      1489\n",
       " 44     1487\n",
       " 18     1487\n",
       " 58     1469\n",
       " 46     1460\n",
       " 45     1453\n",
       "        ... \n",
       " 74      602\n",
       " 76      571\n",
       " 75      544\n",
       " 78      541\n",
       " 77      527\n",
       " 80      511\n",
       " 81      434\n",
       " 82      392\n",
       " 79      390\n",
       " 84      311\n",
       " 83      280\n",
       " 85      275\n",
       " 86      260\n",
       " 87      184\n",
       " 89      173\n",
       " 88      126\n",
       " 90      109\n",
       " 92       86\n",
       " 91       66\n",
       " 93       53\n",
       " 94       33\n",
       " 95       24\n",
       " 96       17\n",
       " 97       11\n",
       " 98        6\n",
       " 115       5\n",
       " 100       4\n",
       " 102       2\n",
       " 99        1\n",
       "-1         1\n",
       "Name: Age, Length: 104, dtype: int64"
      ]
     },
     "execution_count": 105,
     "metadata": {},
     "output_type": "execute_result"
    }
   ],
   "source": [
    "# checke ages \n",
    "med_16['Age'].value_counts()"
   ]
  },
  {
   "cell_type": "markdown",
   "metadata": {},
   "source": [
    "\n",
    "### Data Cleaning (Operations on the dataset)"
   ]
  },
  {
   "cell_type": "markdown",
   "metadata": {},
   "source": [
    "###  Arranged dataset according  to AppointmentID"
   ]
  },
  {
   "cell_type": "markdown",
   "metadata": {},
   "source": [
    "I noticed that the table is not arranged according to AppointmentID column and therefore I will sort it in ascending order."
   ]
  },
  {
   "cell_type": "code",
   "execution_count": 106,
   "metadata": {},
   "outputs": [
    {
     "data": {
      "text/html": [
       "<div>\n",
       "<style scoped>\n",
       "    .dataframe tbody tr th:only-of-type {\n",
       "        vertical-align: middle;\n",
       "    }\n",
       "\n",
       "    .dataframe tbody tr th {\n",
       "        vertical-align: top;\n",
       "    }\n",
       "\n",
       "    .dataframe thead th {\n",
       "        text-align: right;\n",
       "    }\n",
       "</style>\n",
       "<table border=\"1\" class=\"dataframe\">\n",
       "  <thead>\n",
       "    <tr style=\"text-align: right;\">\n",
       "      <th></th>\n",
       "      <th>PatientId</th>\n",
       "      <th>AppointmentID</th>\n",
       "      <th>Gender</th>\n",
       "      <th>ScheduledDay</th>\n",
       "      <th>AppointmentDay</th>\n",
       "      <th>Age</th>\n",
       "      <th>Neighbourhood</th>\n",
       "      <th>Scholarship</th>\n",
       "      <th>Hipertension</th>\n",
       "      <th>Diabetes</th>\n",
       "      <th>Alcoholism</th>\n",
       "      <th>Handcap</th>\n",
       "      <th>SMS_received</th>\n",
       "      <th>No-show</th>\n",
       "    </tr>\n",
       "  </thead>\n",
       "  <tbody>\n",
       "    <tr>\n",
       "      <th>3764</th>\n",
       "      <td>8.322564e+14</td>\n",
       "      <td>5030230</td>\n",
       "      <td>F</td>\n",
       "      <td>2015-11-10T07:13:56Z</td>\n",
       "      <td>2016-05-04T00:00:00Z</td>\n",
       "      <td>51</td>\n",
       "      <td>RESISTÊNCIA</td>\n",
       "      <td>0</td>\n",
       "      <td>0</td>\n",
       "      <td>0</td>\n",
       "      <td>0</td>\n",
       "      <td>0</td>\n",
       "      <td>1</td>\n",
       "      <td>No</td>\n",
       "    </tr>\n",
       "    <tr>\n",
       "      <th>46292</th>\n",
       "      <td>9.163747e+13</td>\n",
       "      <td>5122866</td>\n",
       "      <td>M</td>\n",
       "      <td>2015-12-03T08:17:28Z</td>\n",
       "      <td>2016-05-02T00:00:00Z</td>\n",
       "      <td>34</td>\n",
       "      <td>VILA RUBIM</td>\n",
       "      <td>0</td>\n",
       "      <td>1</td>\n",
       "      <td>0</td>\n",
       "      <td>0</td>\n",
       "      <td>0</td>\n",
       "      <td>1</td>\n",
       "      <td>Yes</td>\n",
       "    </tr>\n",
       "    <tr>\n",
       "      <th>102795</th>\n",
       "      <td>1.216587e+12</td>\n",
       "      <td>5134197</td>\n",
       "      <td>F</td>\n",
       "      <td>2015-12-07T10:40:59Z</td>\n",
       "      <td>2016-06-03T00:00:00Z</td>\n",
       "      <td>27</td>\n",
       "      <td>SÃO CRISTÓVÃO</td>\n",
       "      <td>1</td>\n",
       "      <td>0</td>\n",
       "      <td>0</td>\n",
       "      <td>0</td>\n",
       "      <td>0</td>\n",
       "      <td>1</td>\n",
       "      <td>Yes</td>\n",
       "    </tr>\n",
       "    <tr>\n",
       "      <th>102797</th>\n",
       "      <td>3.189960e+13</td>\n",
       "      <td>5134220</td>\n",
       "      <td>F</td>\n",
       "      <td>2015-12-07T10:42:42Z</td>\n",
       "      <td>2016-06-03T00:00:00Z</td>\n",
       "      <td>48</td>\n",
       "      <td>MARUÍPE</td>\n",
       "      <td>0</td>\n",
       "      <td>1</td>\n",
       "      <td>1</td>\n",
       "      <td>0</td>\n",
       "      <td>0</td>\n",
       "      <td>1</td>\n",
       "      <td>No</td>\n",
       "    </tr>\n",
       "    <tr>\n",
       "      <th>102796</th>\n",
       "      <td>9.582232e+12</td>\n",
       "      <td>5134223</td>\n",
       "      <td>F</td>\n",
       "      <td>2015-12-07T10:43:01Z</td>\n",
       "      <td>2016-06-03T00:00:00Z</td>\n",
       "      <td>80</td>\n",
       "      <td>SÃO CRISTÓVÃO</td>\n",
       "      <td>0</td>\n",
       "      <td>1</td>\n",
       "      <td>1</td>\n",
       "      <td>0</td>\n",
       "      <td>0</td>\n",
       "      <td>1</td>\n",
       "      <td>No</td>\n",
       "    </tr>\n",
       "    <tr>\n",
       "      <th>102799</th>\n",
       "      <td>3.516254e+12</td>\n",
       "      <td>5134224</td>\n",
       "      <td>F</td>\n",
       "      <td>2015-12-07T10:43:17Z</td>\n",
       "      <td>2016-06-03T00:00:00Z</td>\n",
       "      <td>74</td>\n",
       "      <td>SÃO CRISTÓVÃO</td>\n",
       "      <td>0</td>\n",
       "      <td>1</td>\n",
       "      <td>1</td>\n",
       "      <td>0</td>\n",
       "      <td>0</td>\n",
       "      <td>1</td>\n",
       "      <td>No</td>\n",
       "    </tr>\n",
       "    <tr>\n",
       "      <th>102786</th>\n",
       "      <td>4.542871e+11</td>\n",
       "      <td>5134227</td>\n",
       "      <td>M</td>\n",
       "      <td>2015-12-07T10:43:34Z</td>\n",
       "      <td>2016-06-03T00:00:00Z</td>\n",
       "      <td>67</td>\n",
       "      <td>MARUÍPE</td>\n",
       "      <td>0</td>\n",
       "      <td>1</td>\n",
       "      <td>1</td>\n",
       "      <td>0</td>\n",
       "      <td>0</td>\n",
       "      <td>0</td>\n",
       "      <td>No</td>\n",
       "    </tr>\n",
       "    <tr>\n",
       "      <th>102791</th>\n",
       "      <td>9.416259e+14</td>\n",
       "      <td>5134228</td>\n",
       "      <td>F</td>\n",
       "      <td>2015-12-07T10:43:50Z</td>\n",
       "      <td>2016-06-03T00:00:00Z</td>\n",
       "      <td>77</td>\n",
       "      <td>SÃO CRISTÓVÃO</td>\n",
       "      <td>0</td>\n",
       "      <td>1</td>\n",
       "      <td>1</td>\n",
       "      <td>0</td>\n",
       "      <td>0</td>\n",
       "      <td>1</td>\n",
       "      <td>No</td>\n",
       "    </tr>\n",
       "    <tr>\n",
       "      <th>102792</th>\n",
       "      <td>3.512659e+14</td>\n",
       "      <td>5134233</td>\n",
       "      <td>M</td>\n",
       "      <td>2015-12-07T10:44:07Z</td>\n",
       "      <td>2016-06-03T00:00:00Z</td>\n",
       "      <td>73</td>\n",
       "      <td>MARUÍPE</td>\n",
       "      <td>0</td>\n",
       "      <td>1</td>\n",
       "      <td>1</td>\n",
       "      <td>0</td>\n",
       "      <td>1</td>\n",
       "      <td>0</td>\n",
       "      <td>Yes</td>\n",
       "    </tr>\n",
       "    <tr>\n",
       "      <th>102789</th>\n",
       "      <td>3.112342e+13</td>\n",
       "      <td>5134239</td>\n",
       "      <td>F</td>\n",
       "      <td>2015-12-07T10:44:25Z</td>\n",
       "      <td>2016-06-03T00:00:00Z</td>\n",
       "      <td>60</td>\n",
       "      <td>SÃO CRISTÓVÃO</td>\n",
       "      <td>0</td>\n",
       "      <td>1</td>\n",
       "      <td>1</td>\n",
       "      <td>0</td>\n",
       "      <td>0</td>\n",
       "      <td>1</td>\n",
       "      <td>No</td>\n",
       "    </tr>\n",
       "    <tr>\n",
       "      <th>102790</th>\n",
       "      <td>9.965348e+14</td>\n",
       "      <td>5134243</td>\n",
       "      <td>M</td>\n",
       "      <td>2015-12-07T10:44:40Z</td>\n",
       "      <td>2016-06-03T00:00:00Z</td>\n",
       "      <td>73</td>\n",
       "      <td>MARUÍPE</td>\n",
       "      <td>0</td>\n",
       "      <td>1</td>\n",
       "      <td>1</td>\n",
       "      <td>0</td>\n",
       "      <td>0</td>\n",
       "      <td>0</td>\n",
       "      <td>No</td>\n",
       "    </tr>\n",
       "    <tr>\n",
       "      <th>102788</th>\n",
       "      <td>2.547555e+14</td>\n",
       "      <td>5134249</td>\n",
       "      <td>F</td>\n",
       "      <td>2015-12-07T10:45:01Z</td>\n",
       "      <td>2016-06-03T00:00:00Z</td>\n",
       "      <td>63</td>\n",
       "      <td>SÃO CRISTÓVÃO</td>\n",
       "      <td>0</td>\n",
       "      <td>1</td>\n",
       "      <td>1</td>\n",
       "      <td>0</td>\n",
       "      <td>0</td>\n",
       "      <td>1</td>\n",
       "      <td>No</td>\n",
       "    </tr>\n",
       "    <tr>\n",
       "      <th>27390</th>\n",
       "      <td>4.946135e+13</td>\n",
       "      <td>5139826</td>\n",
       "      <td>M</td>\n",
       "      <td>2015-12-08T13:30:21Z</td>\n",
       "      <td>2016-05-11T00:00:00Z</td>\n",
       "      <td>52</td>\n",
       "      <td>SANTA CECÍLIA</td>\n",
       "      <td>0</td>\n",
       "      <td>1</td>\n",
       "      <td>0</td>\n",
       "      <td>0</td>\n",
       "      <td>0</td>\n",
       "      <td>1</td>\n",
       "      <td>Yes</td>\n",
       "    </tr>\n",
       "    <tr>\n",
       "      <th>27608</th>\n",
       "      <td>7.279665e+13</td>\n",
       "      <td>5139831</td>\n",
       "      <td>M</td>\n",
       "      <td>2015-12-08T13:30:41Z</td>\n",
       "      <td>2016-05-11T00:00:00Z</td>\n",
       "      <td>68</td>\n",
       "      <td>MARUÍPE</td>\n",
       "      <td>0</td>\n",
       "      <td>1</td>\n",
       "      <td>0</td>\n",
       "      <td>0</td>\n",
       "      <td>0</td>\n",
       "      <td>1</td>\n",
       "      <td>Yes</td>\n",
       "    </tr>\n",
       "    <tr>\n",
       "      <th>27603</th>\n",
       "      <td>4.673752e+14</td>\n",
       "      <td>5139832</td>\n",
       "      <td>F</td>\n",
       "      <td>2015-12-08T13:31:04Z</td>\n",
       "      <td>2016-05-11T00:00:00Z</td>\n",
       "      <td>82</td>\n",
       "      <td>SANTA CECÍLIA</td>\n",
       "      <td>0</td>\n",
       "      <td>1</td>\n",
       "      <td>0</td>\n",
       "      <td>0</td>\n",
       "      <td>0</td>\n",
       "      <td>0</td>\n",
       "      <td>Yes</td>\n",
       "    </tr>\n",
       "    <tr>\n",
       "      <th>27597</th>\n",
       "      <td>7.319785e+14</td>\n",
       "      <td>5139834</td>\n",
       "      <td>F</td>\n",
       "      <td>2015-12-08T13:31:21Z</td>\n",
       "      <td>2016-05-11T00:00:00Z</td>\n",
       "      <td>66</td>\n",
       "      <td>MARUÍPE</td>\n",
       "      <td>0</td>\n",
       "      <td>1</td>\n",
       "      <td>0</td>\n",
       "      <td>0</td>\n",
       "      <td>0</td>\n",
       "      <td>1</td>\n",
       "      <td>No</td>\n",
       "    </tr>\n",
       "    <tr>\n",
       "      <th>27593</th>\n",
       "      <td>1.888996e+14</td>\n",
       "      <td>5139839</td>\n",
       "      <td>F</td>\n",
       "      <td>2015-12-08T13:31:45Z</td>\n",
       "      <td>2016-05-11T00:00:00Z</td>\n",
       "      <td>76</td>\n",
       "      <td>SANTA CECÍLIA</td>\n",
       "      <td>0</td>\n",
       "      <td>1</td>\n",
       "      <td>0</td>\n",
       "      <td>0</td>\n",
       "      <td>0</td>\n",
       "      <td>1</td>\n",
       "      <td>No</td>\n",
       "    </tr>\n",
       "    <tr>\n",
       "      <th>27588</th>\n",
       "      <td>1.419212e+12</td>\n",
       "      <td>5139848</td>\n",
       "      <td>F</td>\n",
       "      <td>2015-12-08T13:32:14Z</td>\n",
       "      <td>2016-05-11T00:00:00Z</td>\n",
       "      <td>53</td>\n",
       "      <td>SANTA CECÍLIA</td>\n",
       "      <td>0</td>\n",
       "      <td>1</td>\n",
       "      <td>0</td>\n",
       "      <td>0</td>\n",
       "      <td>0</td>\n",
       "      <td>1</td>\n",
       "      <td>Yes</td>\n",
       "    </tr>\n",
       "    <tr>\n",
       "      <th>27583</th>\n",
       "      <td>9.782191e+12</td>\n",
       "      <td>5139853</td>\n",
       "      <td>F</td>\n",
       "      <td>2015-12-08T13:32:34Z</td>\n",
       "      <td>2016-05-11T00:00:00Z</td>\n",
       "      <td>55</td>\n",
       "      <td>MARUÍPE</td>\n",
       "      <td>0</td>\n",
       "      <td>1</td>\n",
       "      <td>0</td>\n",
       "      <td>0</td>\n",
       "      <td>0</td>\n",
       "      <td>1</td>\n",
       "      <td>Yes</td>\n",
       "    </tr>\n",
       "    <tr>\n",
       "      <th>27574</th>\n",
       "      <td>3.853968e+13</td>\n",
       "      <td>5139857</td>\n",
       "      <td>F</td>\n",
       "      <td>2015-12-08T13:33:09Z</td>\n",
       "      <td>2016-05-11T00:00:00Z</td>\n",
       "      <td>39</td>\n",
       "      <td>SÃO CRISTÓVÃO</td>\n",
       "      <td>0</td>\n",
       "      <td>0</td>\n",
       "      <td>0</td>\n",
       "      <td>0</td>\n",
       "      <td>0</td>\n",
       "      <td>1</td>\n",
       "      <td>No</td>\n",
       "    </tr>\n",
       "    <tr>\n",
       "      <th>27570</th>\n",
       "      <td>2.199426e+13</td>\n",
       "      <td>5139859</td>\n",
       "      <td>F</td>\n",
       "      <td>2015-12-08T13:33:28Z</td>\n",
       "      <td>2016-05-11T00:00:00Z</td>\n",
       "      <td>57</td>\n",
       "      <td>TABUAZEIRO</td>\n",
       "      <td>0</td>\n",
       "      <td>0</td>\n",
       "      <td>0</td>\n",
       "      <td>0</td>\n",
       "      <td>0</td>\n",
       "      <td>1</td>\n",
       "      <td>No</td>\n",
       "    </tr>\n",
       "    <tr>\n",
       "      <th>27565</th>\n",
       "      <td>1.787260e+14</td>\n",
       "      <td>5139864</td>\n",
       "      <td>M</td>\n",
       "      <td>2015-12-08T13:33:50Z</td>\n",
       "      <td>2016-05-11T00:00:00Z</td>\n",
       "      <td>83</td>\n",
       "      <td>SANTA CECÍLIA</td>\n",
       "      <td>0</td>\n",
       "      <td>1</td>\n",
       "      <td>0</td>\n",
       "      <td>0</td>\n",
       "      <td>1</td>\n",
       "      <td>1</td>\n",
       "      <td>Yes</td>\n",
       "    </tr>\n",
       "    <tr>\n",
       "      <th>27391</th>\n",
       "      <td>3.272966e+13</td>\n",
       "      <td>5140065</td>\n",
       "      <td>M</td>\n",
       "      <td>2015-12-08T13:58:50Z</td>\n",
       "      <td>2016-05-18T00:00:00Z</td>\n",
       "      <td>48</td>\n",
       "      <td>TABUAZEIRO</td>\n",
       "      <td>0</td>\n",
       "      <td>0</td>\n",
       "      <td>0</td>\n",
       "      <td>0</td>\n",
       "      <td>0</td>\n",
       "      <td>0</td>\n",
       "      <td>No</td>\n",
       "    </tr>\n",
       "    <tr>\n",
       "      <th>27609</th>\n",
       "      <td>5.596785e+14</td>\n",
       "      <td>5140069</td>\n",
       "      <td>F</td>\n",
       "      <td>2015-12-08T13:59:33Z</td>\n",
       "      <td>2016-05-18T00:00:00Z</td>\n",
       "      <td>82</td>\n",
       "      <td>MARUÍPE</td>\n",
       "      <td>0</td>\n",
       "      <td>1</td>\n",
       "      <td>0</td>\n",
       "      <td>0</td>\n",
       "      <td>0</td>\n",
       "      <td>0</td>\n",
       "      <td>No</td>\n",
       "    </tr>\n",
       "    <tr>\n",
       "      <th>27605</th>\n",
       "      <td>3.287886e+12</td>\n",
       "      <td>5140074</td>\n",
       "      <td>M</td>\n",
       "      <td>2015-12-08T14:00:52Z</td>\n",
       "      <td>2016-05-18T00:00:00Z</td>\n",
       "      <td>76</td>\n",
       "      <td>MARUÍPE</td>\n",
       "      <td>0</td>\n",
       "      <td>1</td>\n",
       "      <td>0</td>\n",
       "      <td>0</td>\n",
       "      <td>0</td>\n",
       "      <td>0</td>\n",
       "      <td>No</td>\n",
       "    </tr>\n",
       "    <tr>\n",
       "      <th>27598</th>\n",
       "      <td>8.331485e+14</td>\n",
       "      <td>5140081</td>\n",
       "      <td>F</td>\n",
       "      <td>2015-12-08T14:01:28Z</td>\n",
       "      <td>2016-05-18T00:00:00Z</td>\n",
       "      <td>74</td>\n",
       "      <td>MARUÍPE</td>\n",
       "      <td>0</td>\n",
       "      <td>1</td>\n",
       "      <td>0</td>\n",
       "      <td>0</td>\n",
       "      <td>0</td>\n",
       "      <td>0</td>\n",
       "      <td>No</td>\n",
       "    </tr>\n",
       "    <tr>\n",
       "      <th>27594</th>\n",
       "      <td>9.217285e+13</td>\n",
       "      <td>5140090</td>\n",
       "      <td>F</td>\n",
       "      <td>2015-12-08T14:02:04Z</td>\n",
       "      <td>2016-05-18T00:00:00Z</td>\n",
       "      <td>70</td>\n",
       "      <td>MARUÍPE</td>\n",
       "      <td>0</td>\n",
       "      <td>1</td>\n",
       "      <td>0</td>\n",
       "      <td>0</td>\n",
       "      <td>0</td>\n",
       "      <td>0</td>\n",
       "      <td>No</td>\n",
       "    </tr>\n",
       "    <tr>\n",
       "      <th>27590</th>\n",
       "      <td>9.919788e+12</td>\n",
       "      <td>5140100</td>\n",
       "      <td>M</td>\n",
       "      <td>2015-12-08T14:02:31Z</td>\n",
       "      <td>2016-05-18T00:00:00Z</td>\n",
       "      <td>89</td>\n",
       "      <td>MARUÍPE</td>\n",
       "      <td>0</td>\n",
       "      <td>1</td>\n",
       "      <td>0</td>\n",
       "      <td>0</td>\n",
       "      <td>0</td>\n",
       "      <td>0</td>\n",
       "      <td>No</td>\n",
       "    </tr>\n",
       "    <tr>\n",
       "      <th>27584</th>\n",
       "      <td>1.864435e+13</td>\n",
       "      <td>5140105</td>\n",
       "      <td>F</td>\n",
       "      <td>2015-12-08T14:03:00Z</td>\n",
       "      <td>2016-05-18T00:00:00Z</td>\n",
       "      <td>58</td>\n",
       "      <td>MARUÍPE</td>\n",
       "      <td>0</td>\n",
       "      <td>1</td>\n",
       "      <td>0</td>\n",
       "      <td>0</td>\n",
       "      <td>0</td>\n",
       "      <td>0</td>\n",
       "      <td>No</td>\n",
       "    </tr>\n",
       "    <tr>\n",
       "      <th>27575</th>\n",
       "      <td>1.442144e+13</td>\n",
       "      <td>5140112</td>\n",
       "      <td>F</td>\n",
       "      <td>2015-12-08T14:03:23Z</td>\n",
       "      <td>2016-05-18T00:00:00Z</td>\n",
       "      <td>57</td>\n",
       "      <td>MARUÍPE</td>\n",
       "      <td>0</td>\n",
       "      <td>0</td>\n",
       "      <td>0</td>\n",
       "      <td>0</td>\n",
       "      <td>0</td>\n",
       "      <td>0</td>\n",
       "      <td>No</td>\n",
       "    </tr>\n",
       "    <tr>\n",
       "      <th>...</th>\n",
       "      <td>...</td>\n",
       "      <td>...</td>\n",
       "      <td>...</td>\n",
       "      <td>...</td>\n",
       "      <td>...</td>\n",
       "      <td>...</td>\n",
       "      <td>...</td>\n",
       "      <td>...</td>\n",
       "      <td>...</td>\n",
       "      <td>...</td>\n",
       "      <td>...</td>\n",
       "      <td>...</td>\n",
       "      <td>...</td>\n",
       "      <td>...</td>\n",
       "    </tr>\n",
       "    <tr>\n",
       "      <th>92057</th>\n",
       "      <td>1.131889e+12</td>\n",
       "      <td>5790245</td>\n",
       "      <td>F</td>\n",
       "      <td>2016-06-08T17:23:59Z</td>\n",
       "      <td>2016-06-08T00:00:00Z</td>\n",
       "      <td>48</td>\n",
       "      <td>JABOUR</td>\n",
       "      <td>0</td>\n",
       "      <td>0</td>\n",
       "      <td>0</td>\n",
       "      <td>0</td>\n",
       "      <td>0</td>\n",
       "      <td>0</td>\n",
       "      <td>No</td>\n",
       "    </tr>\n",
       "    <tr>\n",
       "      <th>103241</th>\n",
       "      <td>8.545872e+13</td>\n",
       "      <td>5790248</td>\n",
       "      <td>M</td>\n",
       "      <td>2016-06-08T17:24:34Z</td>\n",
       "      <td>2016-06-08T00:00:00Z</td>\n",
       "      <td>35</td>\n",
       "      <td>RESISTÊNCIA</td>\n",
       "      <td>0</td>\n",
       "      <td>0</td>\n",
       "      <td>0</td>\n",
       "      <td>0</td>\n",
       "      <td>0</td>\n",
       "      <td>0</td>\n",
       "      <td>No</td>\n",
       "    </tr>\n",
       "    <tr>\n",
       "      <th>103754</th>\n",
       "      <td>6.848438e+13</td>\n",
       "      <td>5790275</td>\n",
       "      <td>F</td>\n",
       "      <td>2016-06-08T17:37:08Z</td>\n",
       "      <td>2016-06-08T00:00:00Z</td>\n",
       "      <td>60</td>\n",
       "      <td>MARIA ORTIZ</td>\n",
       "      <td>0</td>\n",
       "      <td>0</td>\n",
       "      <td>0</td>\n",
       "      <td>0</td>\n",
       "      <td>0</td>\n",
       "      <td>0</td>\n",
       "      <td>No</td>\n",
       "    </tr>\n",
       "    <tr>\n",
       "      <th>85216</th>\n",
       "      <td>4.555823e+13</td>\n",
       "      <td>5790284</td>\n",
       "      <td>F</td>\n",
       "      <td>2016-06-08T17:42:29Z</td>\n",
       "      <td>2016-06-08T00:00:00Z</td>\n",
       "      <td>11</td>\n",
       "      <td>JARDIM CAMBURI</td>\n",
       "      <td>0</td>\n",
       "      <td>0</td>\n",
       "      <td>0</td>\n",
       "      <td>0</td>\n",
       "      <td>0</td>\n",
       "      <td>0</td>\n",
       "      <td>No</td>\n",
       "    </tr>\n",
       "    <tr>\n",
       "      <th>110007</th>\n",
       "      <td>7.778558e+12</td>\n",
       "      <td>5790287</td>\n",
       "      <td>M</td>\n",
       "      <td>2016-06-08T17:45:18Z</td>\n",
       "      <td>2016-06-08T00:00:00Z</td>\n",
       "      <td>60</td>\n",
       "      <td>BELA VISTA</td>\n",
       "      <td>0</td>\n",
       "      <td>1</td>\n",
       "      <td>0</td>\n",
       "      <td>0</td>\n",
       "      <td>0</td>\n",
       "      <td>0</td>\n",
       "      <td>No</td>\n",
       "    </tr>\n",
       "    <tr>\n",
       "      <th>87017</th>\n",
       "      <td>5.451359e+14</td>\n",
       "      <td>5790292</td>\n",
       "      <td>F</td>\n",
       "      <td>2016-06-08T17:50:25Z</td>\n",
       "      <td>2016-06-08T00:00:00Z</td>\n",
       "      <td>53</td>\n",
       "      <td>JARDIM CAMBURI</td>\n",
       "      <td>0</td>\n",
       "      <td>0</td>\n",
       "      <td>0</td>\n",
       "      <td>0</td>\n",
       "      <td>0</td>\n",
       "      <td>0</td>\n",
       "      <td>No</td>\n",
       "    </tr>\n",
       "    <tr>\n",
       "      <th>95319</th>\n",
       "      <td>8.197230e+13</td>\n",
       "      <td>5790319</td>\n",
       "      <td>M</td>\n",
       "      <td>2016-06-08T18:07:30Z</td>\n",
       "      <td>2016-06-08T00:00:00Z</td>\n",
       "      <td>18</td>\n",
       "      <td>DA PENHA</td>\n",
       "      <td>0</td>\n",
       "      <td>0</td>\n",
       "      <td>0</td>\n",
       "      <td>0</td>\n",
       "      <td>0</td>\n",
       "      <td>0</td>\n",
       "      <td>No</td>\n",
       "    </tr>\n",
       "    <tr>\n",
       "      <th>85215</th>\n",
       "      <td>9.965538e+14</td>\n",
       "      <td>5790322</td>\n",
       "      <td>F</td>\n",
       "      <td>2016-06-08T18:09:45Z</td>\n",
       "      <td>2016-06-08T00:00:00Z</td>\n",
       "      <td>32</td>\n",
       "      <td>JARDIM CAMBURI</td>\n",
       "      <td>0</td>\n",
       "      <td>0</td>\n",
       "      <td>0</td>\n",
       "      <td>0</td>\n",
       "      <td>0</td>\n",
       "      <td>0</td>\n",
       "      <td>No</td>\n",
       "    </tr>\n",
       "    <tr>\n",
       "      <th>95287</th>\n",
       "      <td>1.152770e+12</td>\n",
       "      <td>5790330</td>\n",
       "      <td>F</td>\n",
       "      <td>2016-06-08T18:15:52Z</td>\n",
       "      <td>2016-06-08T00:00:00Z</td>\n",
       "      <td>23</td>\n",
       "      <td>DO CABRAL</td>\n",
       "      <td>0</td>\n",
       "      <td>0</td>\n",
       "      <td>0</td>\n",
       "      <td>0</td>\n",
       "      <td>0</td>\n",
       "      <td>0</td>\n",
       "      <td>No</td>\n",
       "    </tr>\n",
       "    <tr>\n",
       "      <th>85219</th>\n",
       "      <td>9.853726e+13</td>\n",
       "      <td>5790351</td>\n",
       "      <td>F</td>\n",
       "      <td>2016-06-08T18:20:04Z</td>\n",
       "      <td>2016-06-08T00:00:00Z</td>\n",
       "      <td>60</td>\n",
       "      <td>JARDIM CAMBURI</td>\n",
       "      <td>0</td>\n",
       "      <td>0</td>\n",
       "      <td>0</td>\n",
       "      <td>0</td>\n",
       "      <td>0</td>\n",
       "      <td>0</td>\n",
       "      <td>No</td>\n",
       "    </tr>\n",
       "    <tr>\n",
       "      <th>97278</th>\n",
       "      <td>1.232836e+12</td>\n",
       "      <td>5790352</td>\n",
       "      <td>F</td>\n",
       "      <td>2016-06-08T18:20:13Z</td>\n",
       "      <td>2016-06-08T00:00:00Z</td>\n",
       "      <td>21</td>\n",
       "      <td>MARUÍPE</td>\n",
       "      <td>0</td>\n",
       "      <td>0</td>\n",
       "      <td>0</td>\n",
       "      <td>0</td>\n",
       "      <td>0</td>\n",
       "      <td>0</td>\n",
       "      <td>No</td>\n",
       "    </tr>\n",
       "    <tr>\n",
       "      <th>87013</th>\n",
       "      <td>8.951619e+13</td>\n",
       "      <td>5790355</td>\n",
       "      <td>F</td>\n",
       "      <td>2016-06-08T18:21:20Z</td>\n",
       "      <td>2016-06-08T00:00:00Z</td>\n",
       "      <td>26</td>\n",
       "      <td>JARDIM CAMBURI</td>\n",
       "      <td>0</td>\n",
       "      <td>0</td>\n",
       "      <td>0</td>\n",
       "      <td>0</td>\n",
       "      <td>0</td>\n",
       "      <td>0</td>\n",
       "      <td>No</td>\n",
       "    </tr>\n",
       "    <tr>\n",
       "      <th>90181</th>\n",
       "      <td>1.453129e+12</td>\n",
       "      <td>5790358</td>\n",
       "      <td>F</td>\n",
       "      <td>2016-06-08T18:21:46Z</td>\n",
       "      <td>2016-06-08T00:00:00Z</td>\n",
       "      <td>65</td>\n",
       "      <td>MARUÍPE</td>\n",
       "      <td>0</td>\n",
       "      <td>1</td>\n",
       "      <td>0</td>\n",
       "      <td>0</td>\n",
       "      <td>0</td>\n",
       "      <td>0</td>\n",
       "      <td>No</td>\n",
       "    </tr>\n",
       "    <tr>\n",
       "      <th>85218</th>\n",
       "      <td>9.853726e+13</td>\n",
       "      <td>5790362</td>\n",
       "      <td>F</td>\n",
       "      <td>2016-06-08T18:24:25Z</td>\n",
       "      <td>2016-06-08T00:00:00Z</td>\n",
       "      <td>60</td>\n",
       "      <td>JARDIM CAMBURI</td>\n",
       "      <td>0</td>\n",
       "      <td>0</td>\n",
       "      <td>0</td>\n",
       "      <td>0</td>\n",
       "      <td>0</td>\n",
       "      <td>0</td>\n",
       "      <td>No</td>\n",
       "    </tr>\n",
       "    <tr>\n",
       "      <th>85791</th>\n",
       "      <td>1.165923e+14</td>\n",
       "      <td>5790364</td>\n",
       "      <td>F</td>\n",
       "      <td>2016-06-08T18:25:45Z</td>\n",
       "      <td>2016-06-08T00:00:00Z</td>\n",
       "      <td>55</td>\n",
       "      <td>JARDIM CAMBURI</td>\n",
       "      <td>0</td>\n",
       "      <td>0</td>\n",
       "      <td>0</td>\n",
       "      <td>0</td>\n",
       "      <td>0</td>\n",
       "      <td>0</td>\n",
       "      <td>No</td>\n",
       "    </tr>\n",
       "    <tr>\n",
       "      <th>85220</th>\n",
       "      <td>3.324736e+13</td>\n",
       "      <td>5790367</td>\n",
       "      <td>M</td>\n",
       "      <td>2016-06-08T18:28:07Z</td>\n",
       "      <td>2016-06-08T00:00:00Z</td>\n",
       "      <td>39</td>\n",
       "      <td>JARDIM CAMBURI</td>\n",
       "      <td>0</td>\n",
       "      <td>0</td>\n",
       "      <td>0</td>\n",
       "      <td>0</td>\n",
       "      <td>0</td>\n",
       "      <td>0</td>\n",
       "      <td>No</td>\n",
       "    </tr>\n",
       "    <tr>\n",
       "      <th>85221</th>\n",
       "      <td>6.919489e+13</td>\n",
       "      <td>5790369</td>\n",
       "      <td>F</td>\n",
       "      <td>2016-06-08T18:28:21Z</td>\n",
       "      <td>2016-06-08T00:00:00Z</td>\n",
       "      <td>28</td>\n",
       "      <td>JARDIM CAMBURI</td>\n",
       "      <td>0</td>\n",
       "      <td>0</td>\n",
       "      <td>0</td>\n",
       "      <td>0</td>\n",
       "      <td>0</td>\n",
       "      <td>0</td>\n",
       "      <td>No</td>\n",
       "    </tr>\n",
       "    <tr>\n",
       "      <th>85222</th>\n",
       "      <td>3.739694e+13</td>\n",
       "      <td>5790370</td>\n",
       "      <td>F</td>\n",
       "      <td>2016-06-08T18:28:35Z</td>\n",
       "      <td>2016-06-08T00:00:00Z</td>\n",
       "      <td>49</td>\n",
       "      <td>JARDIM CAMBURI</td>\n",
       "      <td>0</td>\n",
       "      <td>0</td>\n",
       "      <td>0</td>\n",
       "      <td>0</td>\n",
       "      <td>0</td>\n",
       "      <td>0</td>\n",
       "      <td>No</td>\n",
       "    </tr>\n",
       "    <tr>\n",
       "      <th>104789</th>\n",
       "      <td>8.956144e+12</td>\n",
       "      <td>5790372</td>\n",
       "      <td>M</td>\n",
       "      <td>2016-06-08T18:30:42Z</td>\n",
       "      <td>2016-06-08T00:00:00Z</td>\n",
       "      <td>81</td>\n",
       "      <td>SÃO CRISTÓVÃO</td>\n",
       "      <td>0</td>\n",
       "      <td>0</td>\n",
       "      <td>0</td>\n",
       "      <td>0</td>\n",
       "      <td>0</td>\n",
       "      <td>0</td>\n",
       "      <td>No</td>\n",
       "    </tr>\n",
       "    <tr>\n",
       "      <th>88142</th>\n",
       "      <td>1.513135e+12</td>\n",
       "      <td>5790376</td>\n",
       "      <td>F</td>\n",
       "      <td>2016-06-08T18:34:10Z</td>\n",
       "      <td>2016-06-08T00:00:00Z</td>\n",
       "      <td>68</td>\n",
       "      <td>JARDIM CAMBURI</td>\n",
       "      <td>0</td>\n",
       "      <td>0</td>\n",
       "      <td>0</td>\n",
       "      <td>0</td>\n",
       "      <td>0</td>\n",
       "      <td>0</td>\n",
       "      <td>No</td>\n",
       "    </tr>\n",
       "    <tr>\n",
       "      <th>104871</th>\n",
       "      <td>2.897540e+10</td>\n",
       "      <td>5790377</td>\n",
       "      <td>F</td>\n",
       "      <td>2016-06-08T18:34:11Z</td>\n",
       "      <td>2016-06-08T00:00:00Z</td>\n",
       "      <td>46</td>\n",
       "      <td>TABUAZEIRO</td>\n",
       "      <td>0</td>\n",
       "      <td>0</td>\n",
       "      <td>0</td>\n",
       "      <td>0</td>\n",
       "      <td>0</td>\n",
       "      <td>0</td>\n",
       "      <td>No</td>\n",
       "    </tr>\n",
       "    <tr>\n",
       "      <th>97294</th>\n",
       "      <td>1.191515e+12</td>\n",
       "      <td>5790416</td>\n",
       "      <td>M</td>\n",
       "      <td>2016-06-08T18:52:20Z</td>\n",
       "      <td>2016-06-08T00:00:00Z</td>\n",
       "      <td>20</td>\n",
       "      <td>SÃO CRISTÓVÃO</td>\n",
       "      <td>1</td>\n",
       "      <td>0</td>\n",
       "      <td>0</td>\n",
       "      <td>0</td>\n",
       "      <td>0</td>\n",
       "      <td>0</td>\n",
       "      <td>No</td>\n",
       "    </tr>\n",
       "    <tr>\n",
       "      <th>88144</th>\n",
       "      <td>7.898845e+14</td>\n",
       "      <td>5790434</td>\n",
       "      <td>F</td>\n",
       "      <td>2016-06-08T19:02:15Z</td>\n",
       "      <td>2016-06-08T00:00:00Z</td>\n",
       "      <td>49</td>\n",
       "      <td>JARDIM CAMBURI</td>\n",
       "      <td>0</td>\n",
       "      <td>0</td>\n",
       "      <td>0</td>\n",
       "      <td>0</td>\n",
       "      <td>0</td>\n",
       "      <td>0</td>\n",
       "      <td>No</td>\n",
       "    </tr>\n",
       "    <tr>\n",
       "      <th>103747</th>\n",
       "      <td>9.585846e+11</td>\n",
       "      <td>5790447</td>\n",
       "      <td>M</td>\n",
       "      <td>2016-06-08T19:08:20Z</td>\n",
       "      <td>2016-06-08T00:00:00Z</td>\n",
       "      <td>32</td>\n",
       "      <td>MARIA ORTIZ</td>\n",
       "      <td>0</td>\n",
       "      <td>0</td>\n",
       "      <td>0</td>\n",
       "      <td>0</td>\n",
       "      <td>0</td>\n",
       "      <td>0</td>\n",
       "      <td>No</td>\n",
       "    </tr>\n",
       "    <tr>\n",
       "      <th>85792</th>\n",
       "      <td>3.386433e+13</td>\n",
       "      <td>5790452</td>\n",
       "      <td>M</td>\n",
       "      <td>2016-06-08T19:14:25Z</td>\n",
       "      <td>2016-06-08T00:00:00Z</td>\n",
       "      <td>58</td>\n",
       "      <td>JARDIM CAMBURI</td>\n",
       "      <td>0</td>\n",
       "      <td>0</td>\n",
       "      <td>0</td>\n",
       "      <td>0</td>\n",
       "      <td>0</td>\n",
       "      <td>0</td>\n",
       "      <td>No</td>\n",
       "    </tr>\n",
       "    <tr>\n",
       "      <th>92442</th>\n",
       "      <td>7.292552e+14</td>\n",
       "      <td>5790461</td>\n",
       "      <td>M</td>\n",
       "      <td>2016-06-08T19:32:25Z</td>\n",
       "      <td>2016-06-08T00:00:00Z</td>\n",
       "      <td>54</td>\n",
       "      <td>JARDIM CAMBURI</td>\n",
       "      <td>0</td>\n",
       "      <td>0</td>\n",
       "      <td>0</td>\n",
       "      <td>0</td>\n",
       "      <td>0</td>\n",
       "      <td>0</td>\n",
       "      <td>No</td>\n",
       "    </tr>\n",
       "    <tr>\n",
       "      <th>88146</th>\n",
       "      <td>9.476144e+14</td>\n",
       "      <td>5790464</td>\n",
       "      <td>F</td>\n",
       "      <td>2016-06-08T19:32:56Z</td>\n",
       "      <td>2016-06-08T00:00:00Z</td>\n",
       "      <td>43</td>\n",
       "      <td>JARDIM CAMBURI</td>\n",
       "      <td>0</td>\n",
       "      <td>0</td>\n",
       "      <td>0</td>\n",
       "      <td>0</td>\n",
       "      <td>0</td>\n",
       "      <td>0</td>\n",
       "      <td>No</td>\n",
       "    </tr>\n",
       "    <tr>\n",
       "      <th>88147</th>\n",
       "      <td>3.562479e+11</td>\n",
       "      <td>5790466</td>\n",
       "      <td>M</td>\n",
       "      <td>2016-06-08T19:33:23Z</td>\n",
       "      <td>2016-06-08T00:00:00Z</td>\n",
       "      <td>27</td>\n",
       "      <td>JARDIM CAMBURI</td>\n",
       "      <td>0</td>\n",
       "      <td>0</td>\n",
       "      <td>0</td>\n",
       "      <td>0</td>\n",
       "      <td>0</td>\n",
       "      <td>0</td>\n",
       "      <td>No</td>\n",
       "    </tr>\n",
       "    <tr>\n",
       "      <th>87219</th>\n",
       "      <td>2.341318e+11</td>\n",
       "      <td>5790481</td>\n",
       "      <td>F</td>\n",
       "      <td>2016-06-08T19:58:52Z</td>\n",
       "      <td>2016-06-08T00:00:00Z</td>\n",
       "      <td>30</td>\n",
       "      <td>JARDIM CAMBURI</td>\n",
       "      <td>0</td>\n",
       "      <td>0</td>\n",
       "      <td>0</td>\n",
       "      <td>0</td>\n",
       "      <td>0</td>\n",
       "      <td>0</td>\n",
       "      <td>No</td>\n",
       "    </tr>\n",
       "    <tr>\n",
       "      <th>87223</th>\n",
       "      <td>5.237164e+12</td>\n",
       "      <td>5790484</td>\n",
       "      <td>F</td>\n",
       "      <td>2016-06-08T20:07:23Z</td>\n",
       "      <td>2016-06-08T00:00:00Z</td>\n",
       "      <td>27</td>\n",
       "      <td>JARDIM CAMBURI</td>\n",
       "      <td>0</td>\n",
       "      <td>0</td>\n",
       "      <td>0</td>\n",
       "      <td>0</td>\n",
       "      <td>0</td>\n",
       "      <td>0</td>\n",
       "      <td>No</td>\n",
       "    </tr>\n",
       "  </tbody>\n",
       "</table>\n",
       "<p>110527 rows × 14 columns</p>\n",
       "</div>"
      ],
      "text/plain": [
       "           PatientId  AppointmentID Gender          ScheduledDay  \\\n",
       "3764    8.322564e+14        5030230      F  2015-11-10T07:13:56Z   \n",
       "46292   9.163747e+13        5122866      M  2015-12-03T08:17:28Z   \n",
       "102795  1.216587e+12        5134197      F  2015-12-07T10:40:59Z   \n",
       "102797  3.189960e+13        5134220      F  2015-12-07T10:42:42Z   \n",
       "102796  9.582232e+12        5134223      F  2015-12-07T10:43:01Z   \n",
       "102799  3.516254e+12        5134224      F  2015-12-07T10:43:17Z   \n",
       "102786  4.542871e+11        5134227      M  2015-12-07T10:43:34Z   \n",
       "102791  9.416259e+14        5134228      F  2015-12-07T10:43:50Z   \n",
       "102792  3.512659e+14        5134233      M  2015-12-07T10:44:07Z   \n",
       "102789  3.112342e+13        5134239      F  2015-12-07T10:44:25Z   \n",
       "102790  9.965348e+14        5134243      M  2015-12-07T10:44:40Z   \n",
       "102788  2.547555e+14        5134249      F  2015-12-07T10:45:01Z   \n",
       "27390   4.946135e+13        5139826      M  2015-12-08T13:30:21Z   \n",
       "27608   7.279665e+13        5139831      M  2015-12-08T13:30:41Z   \n",
       "27603   4.673752e+14        5139832      F  2015-12-08T13:31:04Z   \n",
       "27597   7.319785e+14        5139834      F  2015-12-08T13:31:21Z   \n",
       "27593   1.888996e+14        5139839      F  2015-12-08T13:31:45Z   \n",
       "27588   1.419212e+12        5139848      F  2015-12-08T13:32:14Z   \n",
       "27583   9.782191e+12        5139853      F  2015-12-08T13:32:34Z   \n",
       "27574   3.853968e+13        5139857      F  2015-12-08T13:33:09Z   \n",
       "27570   2.199426e+13        5139859      F  2015-12-08T13:33:28Z   \n",
       "27565   1.787260e+14        5139864      M  2015-12-08T13:33:50Z   \n",
       "27391   3.272966e+13        5140065      M  2015-12-08T13:58:50Z   \n",
       "27609   5.596785e+14        5140069      F  2015-12-08T13:59:33Z   \n",
       "27605   3.287886e+12        5140074      M  2015-12-08T14:00:52Z   \n",
       "27598   8.331485e+14        5140081      F  2015-12-08T14:01:28Z   \n",
       "27594   9.217285e+13        5140090      F  2015-12-08T14:02:04Z   \n",
       "27590   9.919788e+12        5140100      M  2015-12-08T14:02:31Z   \n",
       "27584   1.864435e+13        5140105      F  2015-12-08T14:03:00Z   \n",
       "27575   1.442144e+13        5140112      F  2015-12-08T14:03:23Z   \n",
       "...              ...            ...    ...                   ...   \n",
       "92057   1.131889e+12        5790245      F  2016-06-08T17:23:59Z   \n",
       "103241  8.545872e+13        5790248      M  2016-06-08T17:24:34Z   \n",
       "103754  6.848438e+13        5790275      F  2016-06-08T17:37:08Z   \n",
       "85216   4.555823e+13        5790284      F  2016-06-08T17:42:29Z   \n",
       "110007  7.778558e+12        5790287      M  2016-06-08T17:45:18Z   \n",
       "87017   5.451359e+14        5790292      F  2016-06-08T17:50:25Z   \n",
       "95319   8.197230e+13        5790319      M  2016-06-08T18:07:30Z   \n",
       "85215   9.965538e+14        5790322      F  2016-06-08T18:09:45Z   \n",
       "95287   1.152770e+12        5790330      F  2016-06-08T18:15:52Z   \n",
       "85219   9.853726e+13        5790351      F  2016-06-08T18:20:04Z   \n",
       "97278   1.232836e+12        5790352      F  2016-06-08T18:20:13Z   \n",
       "87013   8.951619e+13        5790355      F  2016-06-08T18:21:20Z   \n",
       "90181   1.453129e+12        5790358      F  2016-06-08T18:21:46Z   \n",
       "85218   9.853726e+13        5790362      F  2016-06-08T18:24:25Z   \n",
       "85791   1.165923e+14        5790364      F  2016-06-08T18:25:45Z   \n",
       "85220   3.324736e+13        5790367      M  2016-06-08T18:28:07Z   \n",
       "85221   6.919489e+13        5790369      F  2016-06-08T18:28:21Z   \n",
       "85222   3.739694e+13        5790370      F  2016-06-08T18:28:35Z   \n",
       "104789  8.956144e+12        5790372      M  2016-06-08T18:30:42Z   \n",
       "88142   1.513135e+12        5790376      F  2016-06-08T18:34:10Z   \n",
       "104871  2.897540e+10        5790377      F  2016-06-08T18:34:11Z   \n",
       "97294   1.191515e+12        5790416      M  2016-06-08T18:52:20Z   \n",
       "88144   7.898845e+14        5790434      F  2016-06-08T19:02:15Z   \n",
       "103747  9.585846e+11        5790447      M  2016-06-08T19:08:20Z   \n",
       "85792   3.386433e+13        5790452      M  2016-06-08T19:14:25Z   \n",
       "92442   7.292552e+14        5790461      M  2016-06-08T19:32:25Z   \n",
       "88146   9.476144e+14        5790464      F  2016-06-08T19:32:56Z   \n",
       "88147   3.562479e+11        5790466      M  2016-06-08T19:33:23Z   \n",
       "87219   2.341318e+11        5790481      F  2016-06-08T19:58:52Z   \n",
       "87223   5.237164e+12        5790484      F  2016-06-08T20:07:23Z   \n",
       "\n",
       "              AppointmentDay  Age   Neighbourhood  Scholarship  Hipertension  \\\n",
       "3764    2016-05-04T00:00:00Z   51     RESISTÊNCIA            0             0   \n",
       "46292   2016-05-02T00:00:00Z   34      VILA RUBIM            0             1   \n",
       "102795  2016-06-03T00:00:00Z   27   SÃO CRISTÓVÃO            1             0   \n",
       "102797  2016-06-03T00:00:00Z   48         MARUÍPE            0             1   \n",
       "102796  2016-06-03T00:00:00Z   80   SÃO CRISTÓVÃO            0             1   \n",
       "102799  2016-06-03T00:00:00Z   74   SÃO CRISTÓVÃO            0             1   \n",
       "102786  2016-06-03T00:00:00Z   67         MARUÍPE            0             1   \n",
       "102791  2016-06-03T00:00:00Z   77   SÃO CRISTÓVÃO            0             1   \n",
       "102792  2016-06-03T00:00:00Z   73         MARUÍPE            0             1   \n",
       "102789  2016-06-03T00:00:00Z   60   SÃO CRISTÓVÃO            0             1   \n",
       "102790  2016-06-03T00:00:00Z   73         MARUÍPE            0             1   \n",
       "102788  2016-06-03T00:00:00Z   63   SÃO CRISTÓVÃO            0             1   \n",
       "27390   2016-05-11T00:00:00Z   52   SANTA CECÍLIA            0             1   \n",
       "27608   2016-05-11T00:00:00Z   68         MARUÍPE            0             1   \n",
       "27603   2016-05-11T00:00:00Z   82   SANTA CECÍLIA            0             1   \n",
       "27597   2016-05-11T00:00:00Z   66         MARUÍPE            0             1   \n",
       "27593   2016-05-11T00:00:00Z   76   SANTA CECÍLIA            0             1   \n",
       "27588   2016-05-11T00:00:00Z   53   SANTA CECÍLIA            0             1   \n",
       "27583   2016-05-11T00:00:00Z   55         MARUÍPE            0             1   \n",
       "27574   2016-05-11T00:00:00Z   39   SÃO CRISTÓVÃO            0             0   \n",
       "27570   2016-05-11T00:00:00Z   57      TABUAZEIRO            0             0   \n",
       "27565   2016-05-11T00:00:00Z   83   SANTA CECÍLIA            0             1   \n",
       "27391   2016-05-18T00:00:00Z   48      TABUAZEIRO            0             0   \n",
       "27609   2016-05-18T00:00:00Z   82         MARUÍPE            0             1   \n",
       "27605   2016-05-18T00:00:00Z   76         MARUÍPE            0             1   \n",
       "27598   2016-05-18T00:00:00Z   74         MARUÍPE            0             1   \n",
       "27594   2016-05-18T00:00:00Z   70         MARUÍPE            0             1   \n",
       "27590   2016-05-18T00:00:00Z   89         MARUÍPE            0             1   \n",
       "27584   2016-05-18T00:00:00Z   58         MARUÍPE            0             1   \n",
       "27575   2016-05-18T00:00:00Z   57         MARUÍPE            0             0   \n",
       "...                      ...  ...             ...          ...           ...   \n",
       "92057   2016-06-08T00:00:00Z   48          JABOUR            0             0   \n",
       "103241  2016-06-08T00:00:00Z   35     RESISTÊNCIA            0             0   \n",
       "103754  2016-06-08T00:00:00Z   60     MARIA ORTIZ            0             0   \n",
       "85216   2016-06-08T00:00:00Z   11  JARDIM CAMBURI            0             0   \n",
       "110007  2016-06-08T00:00:00Z   60      BELA VISTA            0             1   \n",
       "87017   2016-06-08T00:00:00Z   53  JARDIM CAMBURI            0             0   \n",
       "95319   2016-06-08T00:00:00Z   18        DA PENHA            0             0   \n",
       "85215   2016-06-08T00:00:00Z   32  JARDIM CAMBURI            0             0   \n",
       "95287   2016-06-08T00:00:00Z   23       DO CABRAL            0             0   \n",
       "85219   2016-06-08T00:00:00Z   60  JARDIM CAMBURI            0             0   \n",
       "97278   2016-06-08T00:00:00Z   21         MARUÍPE            0             0   \n",
       "87013   2016-06-08T00:00:00Z   26  JARDIM CAMBURI            0             0   \n",
       "90181   2016-06-08T00:00:00Z   65         MARUÍPE            0             1   \n",
       "85218   2016-06-08T00:00:00Z   60  JARDIM CAMBURI            0             0   \n",
       "85791   2016-06-08T00:00:00Z   55  JARDIM CAMBURI            0             0   \n",
       "85220   2016-06-08T00:00:00Z   39  JARDIM CAMBURI            0             0   \n",
       "85221   2016-06-08T00:00:00Z   28  JARDIM CAMBURI            0             0   \n",
       "85222   2016-06-08T00:00:00Z   49  JARDIM CAMBURI            0             0   \n",
       "104789  2016-06-08T00:00:00Z   81   SÃO CRISTÓVÃO            0             0   \n",
       "88142   2016-06-08T00:00:00Z   68  JARDIM CAMBURI            0             0   \n",
       "104871  2016-06-08T00:00:00Z   46      TABUAZEIRO            0             0   \n",
       "97294   2016-06-08T00:00:00Z   20   SÃO CRISTÓVÃO            1             0   \n",
       "88144   2016-06-08T00:00:00Z   49  JARDIM CAMBURI            0             0   \n",
       "103747  2016-06-08T00:00:00Z   32     MARIA ORTIZ            0             0   \n",
       "85792   2016-06-08T00:00:00Z   58  JARDIM CAMBURI            0             0   \n",
       "92442   2016-06-08T00:00:00Z   54  JARDIM CAMBURI            0             0   \n",
       "88146   2016-06-08T00:00:00Z   43  JARDIM CAMBURI            0             0   \n",
       "88147   2016-06-08T00:00:00Z   27  JARDIM CAMBURI            0             0   \n",
       "87219   2016-06-08T00:00:00Z   30  JARDIM CAMBURI            0             0   \n",
       "87223   2016-06-08T00:00:00Z   27  JARDIM CAMBURI            0             0   \n",
       "\n",
       "        Diabetes  Alcoholism  Handcap  SMS_received No-show  \n",
       "3764           0           0        0             1      No  \n",
       "46292          0           0        0             1     Yes  \n",
       "102795         0           0        0             1     Yes  \n",
       "102797         1           0        0             1      No  \n",
       "102796         1           0        0             1      No  \n",
       "102799         1           0        0             1      No  \n",
       "102786         1           0        0             0      No  \n",
       "102791         1           0        0             1      No  \n",
       "102792         1           0        1             0     Yes  \n",
       "102789         1           0        0             1      No  \n",
       "102790         1           0        0             0      No  \n",
       "102788         1           0        0             1      No  \n",
       "27390          0           0        0             1     Yes  \n",
       "27608          0           0        0             1     Yes  \n",
       "27603          0           0        0             0     Yes  \n",
       "27597          0           0        0             1      No  \n",
       "27593          0           0        0             1      No  \n",
       "27588          0           0        0             1     Yes  \n",
       "27583          0           0        0             1     Yes  \n",
       "27574          0           0        0             1      No  \n",
       "27570          0           0        0             1      No  \n",
       "27565          0           0        1             1     Yes  \n",
       "27391          0           0        0             0      No  \n",
       "27609          0           0        0             0      No  \n",
       "27605          0           0        0             0      No  \n",
       "27598          0           0        0             0      No  \n",
       "27594          0           0        0             0      No  \n",
       "27590          0           0        0             0      No  \n",
       "27584          0           0        0             0      No  \n",
       "27575          0           0        0             0      No  \n",
       "...          ...         ...      ...           ...     ...  \n",
       "92057          0           0        0             0      No  \n",
       "103241         0           0        0             0      No  \n",
       "103754         0           0        0             0      No  \n",
       "85216          0           0        0             0      No  \n",
       "110007         0           0        0             0      No  \n",
       "87017          0           0        0             0      No  \n",
       "95319          0           0        0             0      No  \n",
       "85215          0           0        0             0      No  \n",
       "95287          0           0        0             0      No  \n",
       "85219          0           0        0             0      No  \n",
       "97278          0           0        0             0      No  \n",
       "87013          0           0        0             0      No  \n",
       "90181          0           0        0             0      No  \n",
       "85218          0           0        0             0      No  \n",
       "85791          0           0        0             0      No  \n",
       "85220          0           0        0             0      No  \n",
       "85221          0           0        0             0      No  \n",
       "85222          0           0        0             0      No  \n",
       "104789         0           0        0             0      No  \n",
       "88142          0           0        0             0      No  \n",
       "104871         0           0        0             0      No  \n",
       "97294          0           0        0             0      No  \n",
       "88144          0           0        0             0      No  \n",
       "103747         0           0        0             0      No  \n",
       "85792          0           0        0             0      No  \n",
       "92442          0           0        0             0      No  \n",
       "88146          0           0        0             0      No  \n",
       "88147          0           0        0             0      No  \n",
       "87219          0           0        0             0      No  \n",
       "87223          0           0        0             0      No  \n",
       "\n",
       "[110527 rows x 14 columns]"
      ]
     },
     "execution_count": 106,
     "metadata": {},
     "output_type": "execute_result"
    }
   ],
   "source": [
    "# Ascending arrangement\n",
    "med_16.sort_values([\"AppointmentID\"], axis=0, ascending=True, inplace=True) \n",
    "med_16"
   ]
  },
  {
   "cell_type": "markdown",
   "metadata": {},
   "source": [
    "Check if arranged is true."
   ]
  },
  {
   "cell_type": "code",
   "execution_count": 107,
   "metadata": {},
   "outputs": [
    {
     "data": {
      "text/html": [
       "<div>\n",
       "<style scoped>\n",
       "    .dataframe tbody tr th:only-of-type {\n",
       "        vertical-align: middle;\n",
       "    }\n",
       "\n",
       "    .dataframe tbody tr th {\n",
       "        vertical-align: top;\n",
       "    }\n",
       "\n",
       "    .dataframe thead th {\n",
       "        text-align: right;\n",
       "    }\n",
       "</style>\n",
       "<table border=\"1\" class=\"dataframe\">\n",
       "  <thead>\n",
       "    <tr style=\"text-align: right;\">\n",
       "      <th></th>\n",
       "      <th>PatientId</th>\n",
       "      <th>AppointmentID</th>\n",
       "      <th>Gender</th>\n",
       "      <th>ScheduledDay</th>\n",
       "      <th>AppointmentDay</th>\n",
       "      <th>Age</th>\n",
       "      <th>Neighbourhood</th>\n",
       "      <th>Scholarship</th>\n",
       "      <th>Hipertension</th>\n",
       "      <th>Diabetes</th>\n",
       "      <th>Alcoholism</th>\n",
       "      <th>Handcap</th>\n",
       "      <th>SMS_received</th>\n",
       "      <th>No-show</th>\n",
       "    </tr>\n",
       "  </thead>\n",
       "  <tbody>\n",
       "    <tr>\n",
       "      <th>0</th>\n",
       "      <td>2.987250e+13</td>\n",
       "      <td>5642903</td>\n",
       "      <td>F</td>\n",
       "      <td>2016-04-29T18:38:08Z</td>\n",
       "      <td>2016-04-29T00:00:00Z</td>\n",
       "      <td>62</td>\n",
       "      <td>JARDIM DA PENHA</td>\n",
       "      <td>0</td>\n",
       "      <td>1</td>\n",
       "      <td>0</td>\n",
       "      <td>0</td>\n",
       "      <td>0</td>\n",
       "      <td>0</td>\n",
       "      <td>No</td>\n",
       "    </tr>\n",
       "  </tbody>\n",
       "</table>\n",
       "</div>"
      ],
      "text/plain": [
       "      PatientId  AppointmentID Gender          ScheduledDay  \\\n",
       "0  2.987250e+13        5642903      F  2016-04-29T18:38:08Z   \n",
       "\n",
       "         AppointmentDay  Age    Neighbourhood  Scholarship  Hipertension  \\\n",
       "0  2016-04-29T00:00:00Z   62  JARDIM DA PENHA            0             1   \n",
       "\n",
       "   Diabetes  Alcoholism  Handcap  SMS_received No-show  \n",
       "0         0           0        0             0      No  "
      ]
     },
     "execution_count": 107,
     "metadata": {},
     "output_type": "execute_result"
    }
   ],
   "source": [
    "# check\n",
    "med_16.loc[med_16['AppointmentID'] == 5642903]"
   ]
  },
  {
   "cell_type": "markdown",
   "metadata": {},
   "source": [
    "### Replace spaces with underscores and lowercase labels for  the columns in the dataset"
   ]
  },
  {
   "cell_type": "code",
   "execution_count": 108,
   "metadata": {},
   "outputs": [
    {
     "data": {
      "text/html": [
       "<div>\n",
       "<style scoped>\n",
       "    .dataframe tbody tr th:only-of-type {\n",
       "        vertical-align: middle;\n",
       "    }\n",
       "\n",
       "    .dataframe tbody tr th {\n",
       "        vertical-align: top;\n",
       "    }\n",
       "\n",
       "    .dataframe thead th {\n",
       "        text-align: right;\n",
       "    }\n",
       "</style>\n",
       "<table border=\"1\" class=\"dataframe\">\n",
       "  <thead>\n",
       "    <tr style=\"text-align: right;\">\n",
       "      <th></th>\n",
       "      <th>patientid</th>\n",
       "      <th>appointmentid</th>\n",
       "      <th>gender</th>\n",
       "      <th>scheduledday</th>\n",
       "      <th>appointmentday</th>\n",
       "      <th>age</th>\n",
       "      <th>neighbourhood</th>\n",
       "      <th>scholarship</th>\n",
       "      <th>hipertension</th>\n",
       "      <th>diabetes</th>\n",
       "      <th>alcoholism</th>\n",
       "      <th>handcap</th>\n",
       "      <th>sms_received</th>\n",
       "      <th>no_show</th>\n",
       "    </tr>\n",
       "  </thead>\n",
       "  <tbody>\n",
       "    <tr>\n",
       "      <th>3764</th>\n",
       "      <td>8.322564e+14</td>\n",
       "      <td>5030230</td>\n",
       "      <td>F</td>\n",
       "      <td>2015-11-10T07:13:56Z</td>\n",
       "      <td>2016-05-04T00:00:00Z</td>\n",
       "      <td>51</td>\n",
       "      <td>RESISTÊNCIA</td>\n",
       "      <td>0</td>\n",
       "      <td>0</td>\n",
       "      <td>0</td>\n",
       "      <td>0</td>\n",
       "      <td>0</td>\n",
       "      <td>1</td>\n",
       "      <td>No</td>\n",
       "    </tr>\n",
       "  </tbody>\n",
       "</table>\n",
       "</div>"
      ],
      "text/plain": [
       "         patientid  appointmentid gender          scheduledday  \\\n",
       "3764  8.322564e+14        5030230      F  2015-11-10T07:13:56Z   \n",
       "\n",
       "            appointmentday  age neighbourhood  scholarship  hipertension  \\\n",
       "3764  2016-05-04T00:00:00Z   51   RESISTÊNCIA            0             0   \n",
       "\n",
       "      diabetes  alcoholism  handcap  sms_received no_show  \n",
       "3764         0           0        0             1      No  "
      ]
     },
     "execution_count": 108,
     "metadata": {},
     "output_type": "execute_result"
    }
   ],
   "source": [
    "# replace spaces with underscores and lowercase labels for dataset\n",
    "med_16.rename(columns=lambda x: x.strip().lower().replace(\"-\", \"_\"), inplace=True)\n",
    "med_16.head(1)"
   ]
  },
  {
   "cell_type": "markdown",
   "metadata": {},
   "source": [
    "### Replace ages that are equal and less than 0 with the mean ages "
   ]
  },
  {
   "cell_type": "code",
   "execution_count": 109,
   "metadata": {},
   "outputs": [],
   "source": [
    "# replace with mean age\n",
    "med_16[med_16['age'] <= 0] = med_16['age'].mean()"
   ]
  },
  {
   "cell_type": "code",
   "execution_count": 110,
   "metadata": {},
   "outputs": [
    {
     "data": {
      "text/plain": [
       "37.088874     3540\n",
       "1.000000      2273\n",
       "52.000000     1746\n",
       "49.000000     1652\n",
       "53.000000     1651\n",
       "56.000000     1635\n",
       "38.000000     1629\n",
       "59.000000     1624\n",
       "2.000000      1618\n",
       "50.000000     1613\n",
       "57.000000     1603\n",
       "36.000000     1580\n",
       "51.000000     1567\n",
       "19.000000     1545\n",
       "39.000000     1536\n",
       "37.000000     1533\n",
       "54.000000     1530\n",
       "34.000000     1526\n",
       "33.000000     1524\n",
       "6.000000      1521\n",
       "30.000000     1521\n",
       "3.000000      1513\n",
       "17.000000     1509\n",
       "32.000000     1505\n",
       "5.000000      1489\n",
       "18.000000     1487\n",
       "44.000000     1487\n",
       "58.000000     1469\n",
       "46.000000     1460\n",
       "45.000000     1453\n",
       "              ... \n",
       "72.000000      615\n",
       "74.000000      602\n",
       "76.000000      571\n",
       "75.000000      544\n",
       "78.000000      541\n",
       "77.000000      527\n",
       "80.000000      511\n",
       "81.000000      434\n",
       "82.000000      392\n",
       "79.000000      390\n",
       "84.000000      311\n",
       "83.000000      280\n",
       "85.000000      275\n",
       "86.000000      260\n",
       "87.000000      184\n",
       "89.000000      173\n",
       "88.000000      126\n",
       "90.000000      109\n",
       "92.000000       86\n",
       "91.000000       66\n",
       "93.000000       53\n",
       "94.000000       33\n",
       "95.000000       24\n",
       "96.000000       17\n",
       "97.000000       11\n",
       "98.000000        6\n",
       "115.000000       5\n",
       "100.000000       4\n",
       "102.000000       2\n",
       "99.000000        1\n",
       "Name: age, Length: 103, dtype: int64"
      ]
     },
     "execution_count": 110,
     "metadata": {},
     "output_type": "execute_result"
    }
   ],
   "source": [
    "# Check\n",
    "med_16['age'].value_counts()"
   ]
  },
  {
   "cell_type": "markdown",
   "metadata": {},
   "source": [
    "### Convert No-show column to numeric numbers"
   ]
  },
  {
   "cell_type": "code",
   "execution_count": 111,
   "metadata": {},
   "outputs": [
    {
     "data": {
      "text/html": [
       "<div>\n",
       "<style scoped>\n",
       "    .dataframe tbody tr th:only-of-type {\n",
       "        vertical-align: middle;\n",
       "    }\n",
       "\n",
       "    .dataframe tbody tr th {\n",
       "        vertical-align: top;\n",
       "    }\n",
       "\n",
       "    .dataframe thead th {\n",
       "        text-align: right;\n",
       "    }\n",
       "</style>\n",
       "<table border=\"1\" class=\"dataframe\">\n",
       "  <thead>\n",
       "    <tr style=\"text-align: right;\">\n",
       "      <th></th>\n",
       "      <th>patientid</th>\n",
       "      <th>appointmentid</th>\n",
       "      <th>gender</th>\n",
       "      <th>scheduledday</th>\n",
       "      <th>appointmentday</th>\n",
       "      <th>age</th>\n",
       "      <th>neighbourhood</th>\n",
       "      <th>scholarship</th>\n",
       "      <th>hipertension</th>\n",
       "      <th>diabetes</th>\n",
       "      <th>alcoholism</th>\n",
       "      <th>handcap</th>\n",
       "      <th>sms_received</th>\n",
       "      <th>no_show</th>\n",
       "    </tr>\n",
       "  </thead>\n",
       "  <tbody>\n",
       "    <tr>\n",
       "      <th>3764</th>\n",
       "      <td>8.322564e+14</td>\n",
       "      <td>5030230.0</td>\n",
       "      <td>F</td>\n",
       "      <td>2015-11-10T07:13:56Z</td>\n",
       "      <td>2016-05-04T00:00:00Z</td>\n",
       "      <td>51.0</td>\n",
       "      <td>RESISTÊNCIA</td>\n",
       "      <td>0.0</td>\n",
       "      <td>0.0</td>\n",
       "      <td>0.0</td>\n",
       "      <td>0.0</td>\n",
       "      <td>0.0</td>\n",
       "      <td>1.0</td>\n",
       "      <td>0.0</td>\n",
       "    </tr>\n",
       "    <tr>\n",
       "      <th>46292</th>\n",
       "      <td>9.163747e+13</td>\n",
       "      <td>5122866.0</td>\n",
       "      <td>M</td>\n",
       "      <td>2015-12-03T08:17:28Z</td>\n",
       "      <td>2016-05-02T00:00:00Z</td>\n",
       "      <td>34.0</td>\n",
       "      <td>VILA RUBIM</td>\n",
       "      <td>0.0</td>\n",
       "      <td>1.0</td>\n",
       "      <td>0.0</td>\n",
       "      <td>0.0</td>\n",
       "      <td>0.0</td>\n",
       "      <td>1.0</td>\n",
       "      <td>1.0</td>\n",
       "    </tr>\n",
       "    <tr>\n",
       "      <th>102795</th>\n",
       "      <td>1.216587e+12</td>\n",
       "      <td>5134197.0</td>\n",
       "      <td>F</td>\n",
       "      <td>2015-12-07T10:40:59Z</td>\n",
       "      <td>2016-06-03T00:00:00Z</td>\n",
       "      <td>27.0</td>\n",
       "      <td>SÃO CRISTÓVÃO</td>\n",
       "      <td>1.0</td>\n",
       "      <td>0.0</td>\n",
       "      <td>0.0</td>\n",
       "      <td>0.0</td>\n",
       "      <td>0.0</td>\n",
       "      <td>1.0</td>\n",
       "      <td>1.0</td>\n",
       "    </tr>\n",
       "    <tr>\n",
       "      <th>102797</th>\n",
       "      <td>3.189960e+13</td>\n",
       "      <td>5134220.0</td>\n",
       "      <td>F</td>\n",
       "      <td>2015-12-07T10:42:42Z</td>\n",
       "      <td>2016-06-03T00:00:00Z</td>\n",
       "      <td>48.0</td>\n",
       "      <td>MARUÍPE</td>\n",
       "      <td>0.0</td>\n",
       "      <td>1.0</td>\n",
       "      <td>1.0</td>\n",
       "      <td>0.0</td>\n",
       "      <td>0.0</td>\n",
       "      <td>1.0</td>\n",
       "      <td>0.0</td>\n",
       "    </tr>\n",
       "    <tr>\n",
       "      <th>102796</th>\n",
       "      <td>9.582232e+12</td>\n",
       "      <td>5134223.0</td>\n",
       "      <td>F</td>\n",
       "      <td>2015-12-07T10:43:01Z</td>\n",
       "      <td>2016-06-03T00:00:00Z</td>\n",
       "      <td>80.0</td>\n",
       "      <td>SÃO CRISTÓVÃO</td>\n",
       "      <td>0.0</td>\n",
       "      <td>1.0</td>\n",
       "      <td>1.0</td>\n",
       "      <td>0.0</td>\n",
       "      <td>0.0</td>\n",
       "      <td>1.0</td>\n",
       "      <td>0.0</td>\n",
       "    </tr>\n",
       "  </tbody>\n",
       "</table>\n",
       "</div>"
      ],
      "text/plain": [
       "           patientid  appointmentid gender          scheduledday  \\\n",
       "3764    8.322564e+14      5030230.0      F  2015-11-10T07:13:56Z   \n",
       "46292   9.163747e+13      5122866.0      M  2015-12-03T08:17:28Z   \n",
       "102795  1.216587e+12      5134197.0      F  2015-12-07T10:40:59Z   \n",
       "102797  3.189960e+13      5134220.0      F  2015-12-07T10:42:42Z   \n",
       "102796  9.582232e+12      5134223.0      F  2015-12-07T10:43:01Z   \n",
       "\n",
       "              appointmentday   age  neighbourhood  scholarship  hipertension  \\\n",
       "3764    2016-05-04T00:00:00Z  51.0    RESISTÊNCIA          0.0           0.0   \n",
       "46292   2016-05-02T00:00:00Z  34.0     VILA RUBIM          0.0           1.0   \n",
       "102795  2016-06-03T00:00:00Z  27.0  SÃO CRISTÓVÃO          1.0           0.0   \n",
       "102797  2016-06-03T00:00:00Z  48.0        MARUÍPE          0.0           1.0   \n",
       "102796  2016-06-03T00:00:00Z  80.0  SÃO CRISTÓVÃO          0.0           1.0   \n",
       "\n",
       "        diabetes  alcoholism  handcap  sms_received  no_show  \n",
       "3764         0.0         0.0      0.0           1.0      0.0  \n",
       "46292        0.0         0.0      0.0           1.0      1.0  \n",
       "102795       0.0         0.0      0.0           1.0      1.0  \n",
       "102797       1.0         0.0      0.0           1.0      0.0  \n",
       "102796       1.0         0.0      0.0           1.0      0.0  "
      ]
     },
     "execution_count": 111,
     "metadata": {},
     "output_type": "execute_result"
    }
   ],
   "source": [
    "# Convert No-show to numeric numbers\n",
    "med_16['no_show'] = med_16['no_show'].map({'Yes': 1, 'No': 0})\n",
    "med_16.head()"
   ]
  },
  {
   "cell_type": "code",
   "execution_count": 112,
   "metadata": {
    "scrolled": true
   },
   "outputs": [
    {
     "name": "stdout",
     "output_type": "stream",
     "text": [
      "<class 'pandas.core.frame.DataFrame'>\n",
      "Int64Index: 110527 entries, 3764 to 87223\n",
      "Data columns (total 14 columns):\n",
      "patientid         110527 non-null float64\n",
      "appointmentid     110527 non-null float64\n",
      "gender            110527 non-null object\n",
      "scheduledday      110527 non-null object\n",
      "appointmentday    110527 non-null object\n",
      "age               110527 non-null float64\n",
      "neighbourhood     110527 non-null object\n",
      "scholarship       110527 non-null float64\n",
      "hipertension      110527 non-null float64\n",
      "diabetes          110527 non-null float64\n",
      "alcoholism        110527 non-null float64\n",
      "handcap           110527 non-null float64\n",
      "sms_received      110527 non-null float64\n",
      "no_show           106987 non-null float64\n",
      "dtypes: float64(10), object(4)\n",
      "memory usage: 12.6+ MB\n"
     ]
    }
   ],
   "source": [
    "# Check it converted\n",
    "med_16.info()"
   ]
  },
  {
   "cell_type": "markdown",
   "metadata": {},
   "source": [
    "<a id='eda'></a>\n",
    "## Exploratory Data Analysis\n",
    "\n",
    "### Research Question 1 (Exploring with Visuals)"
   ]
  },
  {
   "cell_type": "markdown",
   "metadata": {},
   "source": [
    "### Exploring all columns"
   ]
  },
  {
   "cell_type": "markdown",
   "metadata": {},
   "source": [
    "In first, I will check all dataset in visual form as:"
   ]
  },
  {
   "cell_type": "code",
   "execution_count": 113,
   "metadata": {},
   "outputs": [
    {
     "data": {
      "image/png": "[encoded data removed]",
      "text/plain": [
       "<matplotlib.figure.Figure at 0x7f0f95da06a0>"
      ]
     },
     "metadata": {
      "needs_background": "light"
     },
     "output_type": "display_data"
    }
   ],
   "source": [
    "med_16.hist(figsize=(14,14));"
   ]
  },
  {
   "cell_type": "markdown",
   "metadata": {},
   "source": [
    "### Magnifying No-Show column to observe it in details"
   ]
  },
  {
   "cell_type": "markdown",
   "metadata": {},
   "source": [
    "Show in histogram shape"
   ]
  },
  {
   "cell_type": "code",
   "execution_count": 147,
   "metadata": {},
   "outputs": [
    {
     "data": {
      "image/png": "[encoded data removed]",
      "text/plain": [
       "<matplotlib.figure.Figure at 0x7f0f9524a438>"
      ]
     },
     "metadata": {
      "needs_background": "light"
     },
     "output_type": "display_data"
    }
   ],
   "source": [
    "med_16.no_show.hist(figsize=(10,8));\n",
    "plt.title(\"Patients attendance and pations numbers\");\n",
    "plt.xlabel(\"Patients attendance\");\n",
    "plt.ylabel(\"Patients numbers\");"
   ]
  },
  {
   "cell_type": "markdown",
   "metadata": {},
   "source": [
    "### Explore no_show column in Pie chart which has the percentage of patients showed up and  not"
   ]
  },
  {
   "cell_type": "code",
   "execution_count": 115,
   "metadata": {},
   "outputs": [
    {
     "data": {
      "image/png": "[encoded data removed]",
      "text/plain": [
       "<matplotlib.figure.Figure at 0x7f0f958c0b38>"
      ]
     },
     "metadata": {},
     "output_type": "display_data"
    }
   ],
   "source": [
    "values = med_16['no_show'].value_counts()\n",
    "pieChart = values.plot.pie(figsize=(10,10),autopct='%1.1f%%', fontsize = 12);\n",
    "pieChart.set_title(\"Pi Chart of no_show\", fontsize = 15);\n",
    "plt.legend();"
   ]
  },
  {
   "cell_type": "markdown",
   "metadata": {},
   "source": [
    "### Research Question 2  (what are factors affecting  the patient's attendance)"
   ]
  },
  {
   "cell_type": "markdown",
   "metadata": {},
   "source": [
    "I want to know what factors affecting the patient's attendance, so I will make some calculations to know that then visualize the results."
   ]
  },
  {
   "cell_type": "markdown",
   "metadata": {},
   "source": [
    "### I will test the relation between SMS received and patient attendance, then making a histogram to see this relation."
   ]
  },
  {
   "cell_type": "markdown",
   "metadata": {},
   "source": [
    "To study this relationship, I will make a filter for patients received SMS and not received, then I will calculate the percentage of each type to know is this influencing factor or not."
   ]
  },
  {
   "cell_type": "code",
   "execution_count": 116,
   "metadata": {},
   "outputs": [
    {
     "data": {
      "text/plain": [
       "0.000000     72402\n",
       "1.000000     34585\n",
       "37.088874     3540\n",
       "Name: sms_received, dtype: int64"
      ]
     },
     "execution_count": 116,
     "metadata": {},
     "output_type": "execute_result"
    }
   ],
   "source": [
    "# Number of pations recieved SMS and not recieved\n",
    "med_16['sms_received'].value_counts()"
   ]
  },
  {
   "cell_type": "markdown",
   "metadata": {},
   "source": [
    "I will write a function to use it many times in calculations."
   ]
  },
  {
   "cell_type": "code",
   "execution_count": 117,
   "metadata": {},
   "outputs": [],
   "source": [
    "# function to perform a query,execute value counts, then calculate the percntage \n",
    "var = 1\n",
    "def qu_cou(var, df,x):\n",
    "    global var1\n",
    "    var = df.query(x) \n",
    "    var1= var\n",
    "    vv  = var['no_show'].value_counts()\n",
    "    per = (vv[0]/(vv[0]+vv[1])) * 100\n",
    "    #return vv, per\n",
    "    print(vv)\n",
    "    print(\"Percentage=\", per,\"%\")"
   ]
  },
  {
   "cell_type": "markdown",
   "metadata": {},
   "source": [
    "Patients who received SMS."
   ]
  },
  {
   "cell_type": "code",
   "execution_count": 118,
   "metadata": {},
   "outputs": [
    {
     "name": "stdout",
     "output_type": "stream",
     "text": [
      "0.0    25017\n",
      "1.0     9568\n",
      "Name: no_show, dtype: int64\n",
      "Percentage= 72.3348272372 %\n"
     ]
    }
   ],
   "source": [
    "# filter rows with recieved sms\n",
    "qu_cou(var, med_16,'sms_received == 1')"
   ]
  },
  {
   "cell_type": "markdown",
   "metadata": {},
   "source": [
    "Visualize this relation."
   ]
  },
  {
   "cell_type": "code",
   "execution_count": 119,
   "metadata": {},
   "outputs": [
    {
     "data": {
      "image/png": "[encoded data removed]",
      "text/plain": [
       "<matplotlib.figure.Figure at 0x7f0f95865518>"
      ]
     },
     "metadata": {
      "needs_background": "light"
     },
     "output_type": "display_data"
    }
   ],
   "source": [
    "var1['no_show'].hist();\n",
    "plt.title(\"relation between SMS received and patient attendance\");\n",
    "plt.xlabel(\"Patients attendance\");\n",
    "plt.ylabel(\"Patients received SMS\");"
   ]
  },
  {
   "cell_type": "markdown",
   "metadata": {},
   "source": [
    "Patients who not received SMS."
   ]
  },
  {
   "cell_type": "code",
   "execution_count": 120,
   "metadata": {},
   "outputs": [
    {
     "name": "stdout",
     "output_type": "stream",
     "text": [
      "0.0    60290\n",
      "1.0    12112\n",
      "Name: no_show, dtype: int64\n",
      "Percentage= 83.2711803541 %\n"
     ]
    }
   ],
   "source": [
    "# filter rows with not recieved sms\n",
    "qu_cou(var, med_16,'sms_received == 0')"
   ]
  },
  {
   "cell_type": "markdown",
   "metadata": {},
   "source": [
    "Visualize this relation."
   ]
  },
  {
   "cell_type": "code",
   "execution_count": 121,
   "metadata": {},
   "outputs": [
    {
     "data": {
      "image/png": "[encoded data removed]",
      "text/plain": [
       "<matplotlib.figure.Figure at 0x7f0f957c6fd0>"
      ]
     },
     "metadata": {
      "needs_background": "light"
     },
     "output_type": "display_data"
    }
   ],
   "source": [
    "# The relation between patients not received SMS and no show\n",
    "var1['no_show'].hist();\n",
    "plt.title(\"relation between not SMS received and patient attendance\");\n",
    "plt.xlabel(\"Patients attendance\");\n",
    "plt.ylabel(\"Patients not received SMS\");"
   ]
  },
  {
   "cell_type": "markdown",
   "metadata": {},
   "source": [
    "### I will test the relation between age of patient and his attendance, then making a histogram to see this relation."
   ]
  },
  {
   "cell_type": "markdown",
   "metadata": {},
   "source": [
    "Patients who have age less than or equal the mean age."
   ]
  },
  {
   "cell_type": "code",
   "execution_count": 122,
   "metadata": {},
   "outputs": [
    {
     "data": {
      "text/plain": [
       "38.276779562546061"
      ]
     },
     "execution_count": 122,
     "metadata": {},
     "output_type": "execute_result"
    }
   ],
   "source": [
    "# filter rows with age less than mean\n",
    "m_age = med_16['age'].mean()\n",
    "m_age"
   ]
  },
  {
   "cell_type": "code",
   "execution_count": 123,
   "metadata": {},
   "outputs": [
    {
     "name": "stdout",
     "output_type": "stream",
     "text": [
      "0.0    41764\n",
      "1.0    12442\n",
      "Name: no_show, dtype: int64\n",
      "Percentage= 77.0468213851 %\n"
     ]
    }
   ],
   "source": [
    "qu_cou(var, med_16,'age <= 38.276779562546061')"
   ]
  },
  {
   "cell_type": "markdown",
   "metadata": {},
   "source": [
    "Visualize this relation."
   ]
  },
  {
   "cell_type": "code",
   "execution_count": 124,
   "metadata": {},
   "outputs": [
    {
     "data": {
      "image/png": "[encoded data removed]",
      "text/plain": [
       "<matplotlib.figure.Figure at 0x7f0f9574cc88>"
      ]
     },
     "metadata": {
      "needs_background": "light"
     },
     "output_type": "display_data"
    }
   ],
   "source": [
    "# The relation between patients average age less than the mean and no show\n",
    "var1['no_show'].hist();\n",
    "plt.title(\"relation between patients age less than or equal mean age and his attendance\");\n",
    "plt.xlabel(\"Patients attendance\");\n",
    "plt.ylabel(\"Patients less than or equal mean age\");"
   ]
  },
  {
   "cell_type": "markdown",
   "metadata": {},
   "source": [
    "Patients who have age more than the mean age."
   ]
  },
  {
   "cell_type": "code",
   "execution_count": 125,
   "metadata": {},
   "outputs": [
    {
     "name": "stdout",
     "output_type": "stream",
     "text": [
      "0.0    43543\n",
      "1.0     9238\n",
      "Name: no_show, dtype: int64\n",
      "Percentage= 82.4974896269 %\n"
     ]
    }
   ],
   "source": [
    "# filter rows with age more than mean\n",
    "qu_cou(var, med_16,'age > 38.276779562546061')"
   ]
  },
  {
   "cell_type": "markdown",
   "metadata": {},
   "source": [
    "Visualize this relation."
   ]
  },
  {
   "cell_type": "code",
   "execution_count": 126,
   "metadata": {},
   "outputs": [
    {
     "data": {
      "image/png": "[encoded data removed]",
      "text/plain": [
       "<matplotlib.figure.Figure at 0x7f0f9572c160>"
      ]
     },
     "metadata": {
      "needs_background": "light"
     },
     "output_type": "display_data"
    }
   ],
   "source": [
    "var1['no_show'].hist();\n",
    "plt.title(\"relation between patients age grater than mean age and his attendance\");\n",
    "plt.xlabel(\"Patients attendance\");\n",
    "plt.ylabel(\"Patients greater than mean age\");"
   ]
  },
  {
   "cell_type": "markdown",
   "metadata": {},
   "source": [
    "### I will test the relation between alcoholism and patient attendance, then making a histogram to see this relation.\t\t\t"
   ]
  },
  {
   "cell_type": "markdown",
   "metadata": {},
   "source": [
    "Patients who drink alcohol very much."
   ]
  },
  {
   "cell_type": "code",
   "execution_count": 127,
   "metadata": {},
   "outputs": [
    {
     "name": "stdout",
     "output_type": "stream",
     "text": [
      "0.0    2683\n",
      "1.0     677\n",
      "Name: no_show, dtype: int64\n",
      "Percentage= 79.8511904762 %\n"
     ]
    }
   ],
   "source": [
    "# filter rows with patients drink alcohol\n",
    "qu_cou(var, med_16,'alcoholism == 1')"
   ]
  },
  {
   "cell_type": "markdown",
   "metadata": {},
   "source": [
    "Visualize this relation."
   ]
  },
  {
   "cell_type": "code",
   "execution_count": 128,
   "metadata": {},
   "outputs": [
    {
     "data": {
      "image/png": "[encoded data removed]",
      "text/plain": [
       "<matplotlib.figure.Figure at 0x7f0f95602668>"
      ]
     },
     "metadata": {
      "needs_background": "light"
     },
     "output_type": "display_data"
    }
   ],
   "source": [
    "var1['no_show'].hist();\n",
    "plt.title(\"relation between alcoholism and patient attendance\");\n",
    "plt.xlabel(\"Patients attendance\");\n",
    "plt.ylabel(\"Patients alcoholism\");"
   ]
  },
  {
   "cell_type": "markdown",
   "metadata": {},
   "source": [
    "Patients do not drink alcohol very much."
   ]
  },
  {
   "cell_type": "code",
   "execution_count": 129,
   "metadata": {},
   "outputs": [
    {
     "name": "stdout",
     "output_type": "stream",
     "text": [
      "0.0    82624\n",
      "1.0    21003\n",
      "Name: no_show, dtype: int64\n",
      "Percentage= 79.7321161473 %\n"
     ]
    }
   ],
   "source": [
    "# filter rows with patients not drink alcohol very muuch\n",
    "qu_cou(var, med_16,'alcoholism == 0')"
   ]
  },
  {
   "cell_type": "markdown",
   "metadata": {},
   "source": [
    "Visualize this relation."
   ]
  },
  {
   "cell_type": "code",
   "execution_count": 130,
   "metadata": {},
   "outputs": [
    {
     "data": {
      "image/png": "[encoded data removed]",
      "text/plain": [
       "<matplotlib.figure.Figure at 0x7f0f95619588>"
      ]
     },
     "metadata": {
      "needs_background": "light"
     },
     "output_type": "display_data"
    }
   ],
   "source": [
    "var1['no_show'].hist();\n",
    "plt.title(\"relation between not alcoholism and patient attendance\");\n",
    "plt.xlabel(\"Patients attendance\");\n",
    "plt.ylabel(\"Patients not alcoholism\");"
   ]
  },
  {
   "cell_type": "markdown",
   "metadata": {},
   "source": [
    "### I will test the relation between diabetes and patient attendance, then making a histogram to see this relation."
   ]
  },
  {
   "cell_type": "markdown",
   "metadata": {},
   "source": [
    "Patients have diabetes disease."
   ]
  },
  {
   "cell_type": "code",
   "execution_count": 131,
   "metadata": {},
   "outputs": [
    {
     "name": "stdout",
     "output_type": "stream",
     "text": [
      "0.0    6513\n",
      "1.0    1430\n",
      "Name: no_show, dtype: int64\n",
      "Percentage= 81.9967266776 %\n"
     ]
    }
   ],
   "source": [
    "# filter rows with diabetes patients\n",
    "qu_cou(var, med_16,'diabetes == 1')"
   ]
  },
  {
   "cell_type": "markdown",
   "metadata": {},
   "source": [
    "Visualize this relation."
   ]
  },
  {
   "cell_type": "code",
   "execution_count": 132,
   "metadata": {},
   "outputs": [
    {
     "data": {
      "image/png": "[encoded data removed]",
      "text/plain": [
       "<matplotlib.figure.Figure at 0x7f0f955824a8>"
      ]
     },
     "metadata": {
      "needs_background": "light"
     },
     "output_type": "display_data"
    }
   ],
   "source": [
    "var1['no_show'].hist();\n",
    "plt.title(\"relation between  diabetes and patient attendance\");\n",
    "plt.xlabel(\"Patients attendance\");\n",
    "plt.ylabel(\"Patients diabetes\");"
   ]
  },
  {
   "cell_type": "markdown",
   "metadata": {},
   "source": [
    "Patients do not have diabetes disease."
   ]
  },
  {
   "cell_type": "code",
   "execution_count": 133,
   "metadata": {},
   "outputs": [
    {
     "name": "stdout",
     "output_type": "stream",
     "text": [
      "0.0    78794\n",
      "1.0    20250\n",
      "Name: no_show, dtype: int64\n",
      "Percentage= 79.5545414159 %\n"
     ]
    }
   ],
   "source": [
    "# Not diabetes patients \n",
    "qu_cou(var, med_16,'diabetes == 0')"
   ]
  },
  {
   "cell_type": "markdown",
   "metadata": {},
   "source": [
    "Visualize this relation."
   ]
  },
  {
   "cell_type": "code",
   "execution_count": 134,
   "metadata": {},
   "outputs": [
    {
     "data": {
      "image/png": "[encoded data removed]",
      "text/plain": [
       "<matplotlib.figure.Figure at 0x7f0f95602710>"
      ]
     },
     "metadata": {
      "needs_background": "light"
     },
     "output_type": "display_data"
    }
   ],
   "source": [
    "var1['no_show'].hist();\n",
    "plt.title(\"relation between not diabetes and patient attendance\");\n",
    "plt.xlabel(\"Patients attendance\");\n",
    "plt.ylabel(\"Patients not diabetes\");"
   ]
  },
  {
   "cell_type": "markdown",
   "metadata": {},
   "source": [
    "### I will test the relation between hipertension and patient attendance, then making a histogram to see this relation."
   ]
  },
  {
   "cell_type": "markdown",
   "metadata": {},
   "source": [
    "Patients have hipertension disease."
   ]
  },
  {
   "cell_type": "code",
   "execution_count": 135,
   "metadata": {},
   "outputs": [
    {
     "name": "stdout",
     "output_type": "stream",
     "text": [
      "0.0    18029\n",
      "1.0     3772\n",
      "Name: no_show, dtype: int64\n",
      "Percentage= 82.6980413742 %\n"
     ]
    }
   ],
   "source": [
    "# filter rows with hipertension patients\n",
    "qu_cou(var, med_16,'hipertension == 1')"
   ]
  },
  {
   "cell_type": "markdown",
   "metadata": {},
   "source": [
    "Visualize this relation."
   ]
  },
  {
   "cell_type": "code",
   "execution_count": 136,
   "metadata": {},
   "outputs": [
    {
     "data": {
      "image/png": "[encoded data removed]",
      "text/plain": [
       "<matplotlib.figure.Figure at 0x7f0f95472c18>"
      ]
     },
     "metadata": {
      "needs_background": "light"
     },
     "output_type": "display_data"
    }
   ],
   "source": [
    "var1['no_show'].hist();\n",
    "plt.title(\"relation between hipertension and patient attendance\");\n",
    "plt.xlabel(\"Patients attendance\");\n",
    "plt.ylabel(\"Patients hipertension\");"
   ]
  },
  {
   "cell_type": "markdown",
   "metadata": {},
   "source": [
    "Patients do not have hipertension disease."
   ]
  },
  {
   "cell_type": "code",
   "execution_count": 137,
   "metadata": {},
   "outputs": [
    {
     "name": "stdout",
     "output_type": "stream",
     "text": [
      "0.0    67278\n",
      "1.0    17908\n",
      "Name: no_show, dtype: int64\n",
      "Percentage= 78.9777662996 %\n"
     ]
    }
   ],
   "source": [
    "# Not hipertension patients \n",
    "qu_cou(var, med_16,'hipertension == 0')"
   ]
  },
  {
   "cell_type": "markdown",
   "metadata": {},
   "source": [
    "Visualize this relation."
   ]
  },
  {
   "cell_type": "code",
   "execution_count": 138,
   "metadata": {},
   "outputs": [
    {
     "data": {
      "image/png": "[encoded data removed]",
      "text/plain": [
       "<matplotlib.figure.Figure at 0x7f0f953f73c8>"
      ]
     },
     "metadata": {
      "needs_background": "light"
     },
     "output_type": "display_data"
    }
   ],
   "source": [
    "var1['no_show'].hist();\n",
    "plt.title(\"relation between not hipertension and patient attendance\");\n",
    "plt.xlabel(\"Patients attendance\");\n",
    "plt.ylabel(\"Patients not hipertension\");"
   ]
  },
  {
   "cell_type": "markdown",
   "metadata": {},
   "source": [
    "### I will test the relation between gender and patient attendance, then making a histogram to see this relation."
   ]
  },
  {
   "cell_type": "markdown",
   "metadata": {},
   "source": [
    "Filter dataset with female patients only."
   ]
  },
  {
   "cell_type": "code",
   "execution_count": 139,
   "metadata": {},
   "outputs": [
    {
     "name": "stdout",
     "output_type": "stream",
     "text": [
      "0.0    55843\n",
      "1.0    14275\n",
      "Name: no_show, dtype: int64\n",
      "Percentage= 79.6414615363 %\n"
     ]
    }
   ],
   "source": [
    "# filter rows with Female patients\n",
    "qu_cou(var, med_16,'gender == \"F\"')"
   ]
  },
  {
   "cell_type": "markdown",
   "metadata": {},
   "source": [
    "Visualize this relation."
   ]
  },
  {
   "cell_type": "code",
   "execution_count": 140,
   "metadata": {},
   "outputs": [
    {
     "data": {
      "image/png": "[encoded data removed]",
      "text/plain": [
       "<matplotlib.figure.Figure at 0x7f0f953ea358>"
      ]
     },
     "metadata": {
      "needs_background": "light"
     },
     "output_type": "display_data"
    }
   ],
   "source": [
    "var1['no_show'].hist();\n",
    "plt.title(\"relation between female gender and patient attendance\");\n",
    "plt.xlabel(\"Patients attendance\");\n",
    "plt.ylabel(\"Female patients\");"
   ]
  },
  {
   "cell_type": "markdown",
   "metadata": {},
   "source": [
    "Filter dataset with male patients only."
   ]
  },
  {
   "cell_type": "code",
   "execution_count": 141,
   "metadata": {},
   "outputs": [
    {
     "name": "stdout",
     "output_type": "stream",
     "text": [
      "0.0    29464\n",
      "1.0     7405\n",
      "Name: no_show, dtype: int64\n",
      "Percentage= 79.9153760612 %\n"
     ]
    }
   ],
   "source": [
    "# filter rows with male patients\n",
    "qu_cou(var, med_16,'gender == \"M\"')"
   ]
  },
  {
   "cell_type": "markdown",
   "metadata": {},
   "source": [
    "Visualize this relation."
   ]
  },
  {
   "cell_type": "code",
   "execution_count": 142,
   "metadata": {},
   "outputs": [
    {
     "data": {
      "image/png": "[encoded data removed]",
      "text/plain": [
       "<matplotlib.figure.Figure at 0x7f0f953640f0>"
      ]
     },
     "metadata": {
      "needs_background": "light"
     },
     "output_type": "display_data"
    }
   ],
   "source": [
    "var1['no_show'].hist();\n",
    "plt.title(\"relation between male gender and patient attendance\");\n",
    "plt.xlabel(\"Patients attendance\");\n",
    "plt.ylabel(\"Male patients\");"
   ]
  },
  {
   "cell_type": "markdown",
   "metadata": {},
   "source": [
    "### I will test the relation between pations  have scholarship and pations who attend and not attend"
   ]
  },
  {
   "cell_type": "markdown",
   "metadata": {},
   "source": [
    "I will make this relation by using a 2D plot, first I will create two columns one for patients who attend and other for not attending patients."
   ]
  },
  {
   "cell_type": "code",
   "execution_count": 143,
   "metadata": {},
   "outputs": [],
   "source": [
    " # filter the patients attended and not attended \n",
    "attend   = med_16['no_show'] == 0\n",
    "n_attend = med_16['no_show'] == 1"
   ]
  },
  {
   "cell_type": "code",
   "execution_count": 144,
   "metadata": {},
   "outputs": [],
   "source": [
    "# add two columns to dataset\n",
    "med_16['attend']   = attend\n",
    "med_16['n_attend'] = n_attend"
   ]
  },
  {
   "cell_type": "markdown",
   "metadata": {},
   "source": [
    "Visualize this relation."
   ]
  },
  {
   "cell_type": "code",
   "execution_count": 145,
   "metadata": {},
   "outputs": [
    {
     "data": {
      "image/png": "[encoded data removed]",
      "text/plain": [
       "<matplotlib.figure.Figure at 0x7f0f9527ed30>"
      ]
     },
     "metadata": {
      "needs_background": "light"
     },
     "output_type": "display_data"
    }
   ],
   "source": [
    "# The relation between pations have scholarship and attendance\n",
    "med_16.groupby('scholarship')['attend'].mean().plot(kind='bar',figsize=(10,8));\n",
    "plt.xlabel(\"Attend\");\n",
    "plt.ylabel(\"Scholarship\");\n",
    "plt.title(\"The relation between pations have scholarship and attendance\");\n",
    "plt.legend();"
   ]
  },
  {
   "cell_type": "markdown",
   "metadata": {},
   "source": [
    "<a id='conclusions'></a>\n",
    "## Conclusions\n",
    "\n",
    "> **Tip**: There is no relation between SMS received and patients go to their scheduled appointment or not, most patients over 38 years old go to their scheduled appointment, I also noticed that patients who have diabetes and stress go to their scheduled appointments more than those who do not have these diseases. Finally, I noticed that men are more committed to going to their scheduled appointments than women.\n",
    "\n",
    "### Limitations:\n",
    "\n",
    "I see some patients age less than or equal to zero are illogical, else, if we know if the patient is work or not that may be a useful feature on impacts showing to the appointment.\n",
    "\n",
    "## Submitting your Project \n",
    "\n",
    "> Before you submit your project, you need to create a .html or .pdf version of this notebook in the workspace here. To do that, run the code cell below. If it worked correctly, you should get a return code of 0, and you should see the generated .html file in the workspace directory (click on the orange Jupyter icon in the upper left).\n",
    "\n",
    "> Alternatively, you can download this report as .html via the **File** > **Download as** submenu, and then manually upload it into the workspace directory by clicking on the orange Jupyter icon in the upper left, then using the Upload button.\n",
    "\n",
    "> Once you've done this, you can submit your project by clicking on the \"Submit Project\" button in the lower right here. This will create and submit a zip file with this .ipynb doc and the .html or .pdf version you created. Congratulations!"
   ]
  },
  {
   "cell_type": "code",
   "execution_count": 146,
   "metadata": {},
   "outputs": [
    {
     "data": {
      "text/plain": [
       "0"
      ]
     },
     "execution_count": 146,
     "metadata": {},
     "output_type": "execute_result"
    }
   ],
   "source": [
    "from subprocess import call\n",
    "call(['python', '-m', 'nbconvert', 'Investigate_a_Dataset.ipynb'])"
   ]
  },
  {
   "cell_type": "code",
   "execution_count": null,
   "metadata": {},
   "outputs": [],
   "source": []
  }
 ],
 "metadata": {
  "kernelspec": {
   "display_name": "Python 3",
   "language": "python",
   "name": "python3"
  },
  "language_info": {
   "codemirror_mode": {
    "name": "ipython",
    "version": 3
   },
   "file_extension": ".py",
   "mimetype": "text/x-python",
   "name": "python",
   "nbconvert_exporter": "python",
   "pygments_lexer": "ipython3",
   "version": "3.6.3"
  }
 },
 "nbformat": 4,
 "nbformat_minor": 2
}
